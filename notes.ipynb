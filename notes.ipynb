{
 "cells": [
  {
   "cell_type": "markdown",
   "id": "92d21b53",
   "metadata": {},
   "source": [
    "# Digit Classifier\n",
    "\n",
    "* Let's create a model that classifies images as a 3 or 7\n",
    "* We shall use:\n",
    "1. MNIST sample dataset\n",
    "2. Fastai"
   ]
  },
  {
   "cell_type": "markdown",
   "id": "8e891c8f",
   "metadata": {},
   "source": [
    "## Tools"
   ]
  },
  {
   "cell_type": "code",
   "execution_count": 1,
   "id": "efb9afc9",
   "metadata": {},
   "outputs": [
    {
     "name": "stderr",
     "output_type": "stream",
     "text": [
      "/home/skiiyuru/mambaforge/lib/python3.10/site-packages/tqdm/auto.py:21: TqdmWarning: IProgress not found. Please update jupyter and ipywidgets. See https://ipywidgets.readthedocs.io/en/stable/user_install.html\n",
      "  from .autonotebook import tqdm as notebook_tqdm\n"
     ]
    }
   ],
   "source": [
    "from fastai.vision.all import *\n",
    "import pandas as pd"
   ]
  },
  {
   "cell_type": "markdown",
   "id": "0779c3fb",
   "metadata": {},
   "source": [
    "## Gather and explore the data"
   ]
  },
  {
   "cell_type": "code",
   "execution_count": 2,
   "id": "32d5d68f",
   "metadata": {},
   "outputs": [],
   "source": [
    "path = untar_data(URLs.MNIST_SAMPLE)"
   ]
  },
  {
   "cell_type": "code",
   "execution_count": 3,
   "id": "e7fe4ecc",
   "metadata": {},
   "outputs": [
    {
     "data": {
      "text/plain": [
       "(#3) [Path('/home/skiiyuru/.fastai/data/mnist_sample/train'),Path('/home/skiiyuru/.fastai/data/mnist_sample/labels.csv'),Path('/home/skiiyuru/.fastai/data/mnist_sample/valid')]"
      ]
     },
     "execution_count": 3,
     "metadata": {},
     "output_type": "execute_result"
    }
   ],
   "source": [
    "# Lets see what's in this directory\n",
    "path.ls()"
   ]
  },
  {
   "cell_type": "code",
   "execution_count": 4,
   "id": "d7ad30d2",
   "metadata": {},
   "outputs": [
    {
     "data": {
      "text/plain": [
       "(#2) [Path('/home/skiiyuru/.fastai/data/mnist_sample/train/3'),Path('/home/skiiyuru/.fastai/data/mnist_sample/train/7')]"
      ]
     },
     "execution_count": 4,
     "metadata": {},
     "output_type": "execute_result"
    }
   ],
   "source": [
    "# Let's check out the training data\n",
    "(path/'train').ls()"
   ]
  },
  {
   "cell_type": "code",
   "execution_count": 5,
   "id": "e0654bc4",
   "metadata": {},
   "outputs": [
    {
     "data": {
      "text/plain": [
       "(#6131) [Path('/home/skiiyuru/.fastai/data/mnist_sample/train/3/10.png'),Path('/home/skiiyuru/.fastai/data/mnist_sample/train/3/10000.png'),Path('/home/skiiyuru/.fastai/data/mnist_sample/train/3/10011.png'),Path('/home/skiiyuru/.fastai/data/mnist_sample/train/3/10031.png'),Path('/home/skiiyuru/.fastai/data/mnist_sample/train/3/10034.png'),Path('/home/skiiyuru/.fastai/data/mnist_sample/train/3/10042.png'),Path('/home/skiiyuru/.fastai/data/mnist_sample/train/3/10052.png'),Path('/home/skiiyuru/.fastai/data/mnist_sample/train/3/1007.png'),Path('/home/skiiyuru/.fastai/data/mnist_sample/train/3/10074.png'),Path('/home/skiiyuru/.fastai/data/mnist_sample/train/3/10091.png')...]"
      ]
     },
     "execution_count": 5,
     "metadata": {},
     "output_type": "execute_result"
    }
   ],
   "source": [
    "threes = (path/'train'/'3').ls().sorted()\n",
    "threes"
   ]
  },
  {
   "cell_type": "code",
   "execution_count": 6,
   "id": "590b3277",
   "metadata": {},
   "outputs": [
    {
     "data": {
      "text/plain": [
       "(#6265) [Path('/home/skiiyuru/.fastai/data/mnist_sample/train/7/10002.png'),Path('/home/skiiyuru/.fastai/data/mnist_sample/train/7/1001.png'),Path('/home/skiiyuru/.fastai/data/mnist_sample/train/7/10014.png'),Path('/home/skiiyuru/.fastai/data/mnist_sample/train/7/10019.png'),Path('/home/skiiyuru/.fastai/data/mnist_sample/train/7/10039.png'),Path('/home/skiiyuru/.fastai/data/mnist_sample/train/7/10046.png'),Path('/home/skiiyuru/.fastai/data/mnist_sample/train/7/10050.png'),Path('/home/skiiyuru/.fastai/data/mnist_sample/train/7/10063.png'),Path('/home/skiiyuru/.fastai/data/mnist_sample/train/7/10077.png'),Path('/home/skiiyuru/.fastai/data/mnist_sample/train/7/10086.png')...]"
      ]
     },
     "execution_count": 6,
     "metadata": {},
     "output_type": "execute_result"
    }
   ],
   "source": [
    "sevens =(path/'train'/'7').ls().sorted()\n",
    "sevens"
   ]
  },
  {
   "cell_type": "code",
   "execution_count": 7,
   "id": "d4d6605b",
   "metadata": {},
   "outputs": [
    {
     "data": {
      "image/png": "[encoded data removed]",
      "text/plain": [
       "<PIL.PngImagePlugin.PngImageFile image mode=L size=28x28>"
      ]
     },
     "execution_count": 7,
     "metadata": {},
     "output_type": "execute_result"
    }
   ],
   "source": [
    "im3_path = threes[1]\n",
    "im3 = Image.open(im3_path)\n",
    "im3"
   ]
  },
  {
   "cell_type": "code",
   "execution_count": 8,
   "id": "e49034e9",
   "metadata": {},
   "outputs": [
    {
     "data": {
      "image/png": "[encoded data removed]",
      "text/plain": [
       "<PIL.PngImagePlugin.PngImageFile image mode=L size=28x28>"
      ]
     },
     "execution_count": 8,
     "metadata": {},
     "output_type": "execute_result"
    }
   ],
   "source": [
    "im7_path = sevens[0]\n",
    "im7 = Image.open(im7_path)\n",
    "im7"
   ]
  },
  {
   "cell_type": "markdown",
   "id": "0720ef8d",
   "metadata": {},
   "source": [
    "Let's view the image as its numerical (pixel value) form"
   ]
  },
  {
   "cell_type": "code",
   "execution_count": 9,
   "id": "183338fb",
   "metadata": {},
   "outputs": [
    {
     "data": {
      "text/plain": [
       "tensor([[  0,   0,   0,   0,   0,   0,   0,   0,   0,   0,   0,   0,   0,   0,\n",
       "           0,   0,   0,   0],\n",
       "        [  0,   0,   0,   0,   0,  29, 150, 195, 254, 255, 254, 176, 193, 150,\n",
       "          96,   0,   0,   0],\n",
       "        [  0,   0,   0,  48, 166, 224, 253, 253, 234, 196, 253, 253, 253, 253,\n",
       "         233,   0,   0,   0],\n",
       "        [  0,  93, 244, 249, 253, 187,  46,  10,   8,   4,  10, 194, 253, 253,\n",
       "         233,   0,   0,   0],\n",
       "        [  0, 107, 253, 253, 230,  48,   0,   0,   0,   0,   0, 192, 253, 253,\n",
       "         156,   0,   0,   0],\n",
       "        [  0,   3,  20,  20,  15,   0,   0,   0,   0,   0,  43, 224, 253, 245,\n",
       "          74,   0,   0,   0],\n",
       "        [  0,   0,   0,   0,   0,   0,   0,   0,   0,   0, 249, 253, 245, 126,\n",
       "           0,   0,   0,   0],\n",
       "        [  0,   0,   0,   0,   0,   0,   0,  14, 101, 223, 253, 248, 124,   0,\n",
       "           0,   0,   0,   0],\n",
       "        [  0,   0,   0,   0,   0,  11, 166, 239, 253, 253, 253, 187,  30,   0,\n",
       "           0,   0,   0,   0],\n",
       "        [  0,   0,   0,   0,   0,  16, 248, 250, 253, 253, 253, 253, 232, 213,\n",
       "         111,   2,   0,   0],\n",
       "        [  0,   0,   0,   0,   0,   0,   0,  43,  98,  98, 208, 253, 253, 253,\n",
       "         253, 187,  22,   0]], dtype=torch.uint8)"
      ]
     },
     "execution_count": 9,
     "metadata": {},
     "output_type": "execute_result"
    }
   ],
   "source": [
    "im3_t = tensor(im3)[4:15, 4:22]\n",
    "im3_t"
   ]
  },
  {
   "cell_type": "markdown",
   "id": "66738a29",
   "metadata": {},
   "source": [
    "Let's visualize just the part with the top of the digit '3' in `im3`"
   ]
  },
  {
   "cell_type": "code",
   "execution_count": 10,
   "id": "000c620c",
   "metadata": {},
   "outputs": [
    {
     "data": {
      "text/html": [
       "<style type=\"text/css\">\n",
       "#T_a59d1_row0_col0, #T_a59d1_row0_col1, #T_a59d1_row0_col2, #T_a59d1_row0_col3, #T_a59d1_row0_col4, #T_a59d1_row0_col5, #T_a59d1_row0_col6, #T_a59d1_row0_col7, #T_a59d1_row0_col8, #T_a59d1_row0_col9, #T_a59d1_row0_col10, #T_a59d1_row0_col11, #T_a59d1_row0_col12, #T_a59d1_row0_col13, #T_a59d1_row0_col14, #T_a59d1_row0_col15, #T_a59d1_row0_col16, #T_a59d1_row0_col17, #T_a59d1_row1_col0, #T_a59d1_row1_col1, #T_a59d1_row1_col2, #T_a59d1_row1_col3, #T_a59d1_row1_col4, #T_a59d1_row1_col15, #T_a59d1_row1_col16, #T_a59d1_row1_col17, #T_a59d1_row2_col0, #T_a59d1_row2_col1, #T_a59d1_row2_col2, #T_a59d1_row2_col15, #T_a59d1_row2_col16, #T_a59d1_row2_col17, #T_a59d1_row3_col0, #T_a59d1_row3_col15, #T_a59d1_row3_col16, #T_a59d1_row3_col17, #T_a59d1_row4_col0, #T_a59d1_row4_col6, #T_a59d1_row4_col7, #T_a59d1_row4_col8, #T_a59d1_row4_col9, #T_a59d1_row4_col10, #T_a59d1_row4_col15, #T_a59d1_row4_col16, #T_a59d1_row4_col17, #T_a59d1_row5_col0, #T_a59d1_row5_col5, #T_a59d1_row5_col6, #T_a59d1_row5_col7, #T_a59d1_row5_col8, #T_a59d1_row5_col9, #T_a59d1_row5_col15, #T_a59d1_row5_col16, #T_a59d1_row5_col17, #T_a59d1_row6_col0, #T_a59d1_row6_col1, #T_a59d1_row6_col2, #T_a59d1_row6_col3, #T_a59d1_row6_col4, #T_a59d1_row6_col5, #T_a59d1_row6_col6, #T_a59d1_row6_col7, #T_a59d1_row6_col8, #T_a59d1_row6_col9, #T_a59d1_row6_col14, #T_a59d1_row6_col15, #T_a59d1_row6_col16, #T_a59d1_row6_col17, #T_a59d1_row7_col0, #T_a59d1_row7_col1, #T_a59d1_row7_col2, #T_a59d1_row7_col3, #T_a59d1_row7_col4, #T_a59d1_row7_col5, #T_a59d1_row7_col6, #T_a59d1_row7_col13, #T_a59d1_row7_col14, #T_a59d1_row7_col15, #T_a59d1_row7_col16, #T_a59d1_row7_col17, #T_a59d1_row8_col0, #T_a59d1_row8_col1, #T_a59d1_row8_col2, #T_a59d1_row8_col3, #T_a59d1_row8_col4, #T_a59d1_row8_col13, #T_a59d1_row8_col14, #T_a59d1_row8_col15, #T_a59d1_row8_col16, #T_a59d1_row8_col17, #T_a59d1_row9_col0, #T_a59d1_row9_col1, #T_a59d1_row9_col2, #T_a59d1_row9_col3, #T_a59d1_row9_col4, #T_a59d1_row9_col16, #T_a59d1_row9_col17, #T_a59d1_row10_col0, #T_a59d1_row10_col1, #T_a59d1_row10_col2, #T_a59d1_row10_col3, #T_a59d1_row10_col4, #T_a59d1_row10_col5, #T_a59d1_row10_col6, #T_a59d1_row10_col17 {\n",
       "  font-size: 6pt;\n",
       "  background-color: #ffffff;\n",
       "  color: #000000;\n",
       "}\n",
       "#T_a59d1_row1_col5 {\n",
       "  font-size: 6pt;\n",
       "  background-color: #efefef;\n",
       "  color: #000000;\n",
       "}\n",
       "#T_a59d1_row1_col6, #T_a59d1_row1_col13 {\n",
       "  font-size: 6pt;\n",
       "  background-color: #7c7c7c;\n",
       "  color: #f1f1f1;\n",
       "}\n",
       "#T_a59d1_row1_col7 {\n",
       "  font-size: 6pt;\n",
       "  background-color: #4a4a4a;\n",
       "  color: #f1f1f1;\n",
       "}\n",
       "#T_a59d1_row1_col8, #T_a59d1_row1_col9, #T_a59d1_row1_col10, #T_a59d1_row2_col5, #T_a59d1_row2_col6, #T_a59d1_row2_col7, #T_a59d1_row2_col11, #T_a59d1_row2_col12, #T_a59d1_row2_col13, #T_a59d1_row3_col4, #T_a59d1_row3_col12, #T_a59d1_row3_col13, #T_a59d1_row4_col1, #T_a59d1_row4_col2, #T_a59d1_row4_col3, #T_a59d1_row4_col12, #T_a59d1_row4_col13, #T_a59d1_row5_col12, #T_a59d1_row6_col11, #T_a59d1_row9_col11, #T_a59d1_row10_col11, #T_a59d1_row10_col12, #T_a59d1_row10_col13, #T_a59d1_row10_col14, #T_a59d1_row10_col15, #T_a59d1_row10_col16 {\n",
       "  font-size: 6pt;\n",
       "  background-color: #000000;\n",
       "  color: #f1f1f1;\n",
       "}\n",
       "#T_a59d1_row1_col11 {\n",
       "  font-size: 6pt;\n",
       "  background-color: #606060;\n",
       "  color: #f1f1f1;\n",
       "}\n",
       "#T_a59d1_row1_col12 {\n",
       "  font-size: 6pt;\n",
       "  background-color: #4d4d4d;\n",
       "  color: #f1f1f1;\n",
       "}\n",
       "#T_a59d1_row1_col14 {\n",
       "  font-size: 6pt;\n",
       "  background-color: #bbbbbb;\n",
       "  color: #000000;\n",
       "}\n",
       "#T_a59d1_row2_col3 {\n",
       "  font-size: 6pt;\n",
       "  background-color: #e4e4e4;\n",
       "  color: #000000;\n",
       "}\n",
       "#T_a59d1_row2_col4, #T_a59d1_row8_col6 {\n",
       "  font-size: 6pt;\n",
       "  background-color: #6b6b6b;\n",
       "  color: #f1f1f1;\n",
       "}\n",
       "#T_a59d1_row2_col8, #T_a59d1_row2_col14, #T_a59d1_row3_col14 {\n",
       "  font-size: 6pt;\n",
       "  background-color: #171717;\n",
       "  color: #f1f1f1;\n",
       "}\n",
       "#T_a59d1_row2_col9, #T_a59d1_row3_col11 {\n",
       "  font-size: 6pt;\n",
       "  background-color: #4b4b4b;\n",
       "  color: #f1f1f1;\n",
       "}\n",
       "#T_a59d1_row2_col10, #T_a59d1_row7_col10, #T_a59d1_row8_col8, #T_a59d1_row8_col10, #T_a59d1_row9_col8, #T_a59d1_row9_col10 {\n",
       "  font-size: 6pt;\n",
       "  background-color: #010101;\n",
       "  color: #f1f1f1;\n",
       "}\n",
       "#T_a59d1_row3_col1 {\n",
       "  font-size: 6pt;\n",
       "  background-color: #272727;\n",
       "  color: #f1f1f1;\n",
       "}\n",
       "#T_a59d1_row3_col2 {\n",
       "  font-size: 6pt;\n",
       "  background-color: #0a0a0a;\n",
       "  color: #f1f1f1;\n",
       "}\n",
       "#T_a59d1_row3_col3 {\n",
       "  font-size: 6pt;\n",
       "  background-color: #050505;\n",
       "  color: #f1f1f1;\n",
       "}\n",
       "#T_a59d1_row3_col5 {\n",
       "  font-size: 6pt;\n",
       "  background-color: #333333;\n",
       "  color: #f1f1f1;\n",
       "}\n",
       "#T_a59d1_row3_col6 {\n",
       "  font-size: 6pt;\n",
       "  background-color: #e6e6e6;\n",
       "  color: #000000;\n",
       "}\n",
       "#T_a59d1_row3_col7, #T_a59d1_row3_col10 {\n",
       "  font-size: 6pt;\n",
       "  background-color: #fafafa;\n",
       "  color: #000000;\n",
       "}\n",
       "#T_a59d1_row3_col8 {\n",
       "  font-size: 6pt;\n",
       "  background-color: #fbfbfb;\n",
       "  color: #000000;\n",
       "}\n",
       "#T_a59d1_row3_col9 {\n",
       "  font-size: 6pt;\n",
       "  background-color: #fdfdfd;\n",
       "  color: #000000;\n",
       "}\n",
       "#T_a59d1_row4_col4 {\n",
       "  font-size: 6pt;\n",
       "  background-color: #1b1b1b;\n",
       "  color: #f1f1f1;\n",
       "}\n",
       "#T_a59d1_row4_col5 {\n",
       "  font-size: 6pt;\n",
       "  background-color: #e0e0e0;\n",
       "  color: #000000;\n",
       "}\n",
       "#T_a59d1_row4_col11 {\n",
       "  font-size: 6pt;\n",
       "  background-color: #4e4e4e;\n",
       "  color: #f1f1f1;\n",
       "}\n",
       "#T_a59d1_row4_col14 {\n",
       "  font-size: 6pt;\n",
       "  background-color: #767676;\n",
       "  color: #f1f1f1;\n",
       "}\n",
       "#T_a59d1_row5_col1 {\n",
       "  font-size: 6pt;\n",
       "  background-color: #fcfcfc;\n",
       "  color: #000000;\n",
       "}\n",
       "#T_a59d1_row5_col2, #T_a59d1_row5_col3 {\n",
       "  font-size: 6pt;\n",
       "  background-color: #f6f6f6;\n",
       "  color: #000000;\n",
       "}\n",
       "#T_a59d1_row5_col4, #T_a59d1_row7_col7 {\n",
       "  font-size: 6pt;\n",
       "  background-color: #f8f8f8;\n",
       "  color: #000000;\n",
       "}\n",
       "#T_a59d1_row5_col10, #T_a59d1_row10_col7 {\n",
       "  font-size: 6pt;\n",
       "  background-color: #e8e8e8;\n",
       "  color: #000000;\n",
       "}\n",
       "#T_a59d1_row5_col11 {\n",
       "  font-size: 6pt;\n",
       "  background-color: #222222;\n",
       "  color: #f1f1f1;\n",
       "}\n",
       "#T_a59d1_row5_col13, #T_a59d1_row6_col12 {\n",
       "  font-size: 6pt;\n",
       "  background-color: #090909;\n",
       "  color: #f1f1f1;\n",
       "}\n",
       "#T_a59d1_row5_col14 {\n",
       "  font-size: 6pt;\n",
       "  background-color: #d0d0d0;\n",
       "  color: #000000;\n",
       "}\n",
       "#T_a59d1_row6_col10, #T_a59d1_row7_col11, #T_a59d1_row9_col6 {\n",
       "  font-size: 6pt;\n",
       "  background-color: #060606;\n",
       "  color: #f1f1f1;\n",
       "}\n",
       "#T_a59d1_row6_col13 {\n",
       "  font-size: 6pt;\n",
       "  background-color: #979797;\n",
       "  color: #f1f1f1;\n",
       "}\n",
       "#T_a59d1_row7_col8 {\n",
       "  font-size: 6pt;\n",
       "  background-color: #b6b6b6;\n",
       "  color: #000000;\n",
       "}\n",
       "#T_a59d1_row7_col9 {\n",
       "  font-size: 6pt;\n",
       "  background-color: #252525;\n",
       "  color: #f1f1f1;\n",
       "}\n",
       "#T_a59d1_row7_col12 {\n",
       "  font-size: 6pt;\n",
       "  background-color: #999999;\n",
       "  color: #f1f1f1;\n",
       "}\n",
       "#T_a59d1_row8_col5 {\n",
       "  font-size: 6pt;\n",
       "  background-color: #f9f9f9;\n",
       "  color: #000000;\n",
       "}\n",
       "#T_a59d1_row8_col7 {\n",
       "  font-size: 6pt;\n",
       "  background-color: #101010;\n",
       "  color: #f1f1f1;\n",
       "}\n",
       "#T_a59d1_row8_col9, #T_a59d1_row9_col9 {\n",
       "  font-size: 6pt;\n",
       "  background-color: #020202;\n",
       "  color: #f1f1f1;\n",
       "}\n",
       "#T_a59d1_row8_col11 {\n",
       "  font-size: 6pt;\n",
       "  background-color: #545454;\n",
       "  color: #f1f1f1;\n",
       "}\n",
       "#T_a59d1_row8_col12 {\n",
       "  font-size: 6pt;\n",
       "  background-color: #f1f1f1;\n",
       "  color: #000000;\n",
       "}\n",
       "#T_a59d1_row9_col5 {\n",
       "  font-size: 6pt;\n",
       "  background-color: #f7f7f7;\n",
       "  color: #000000;\n",
       "}\n",
       "#T_a59d1_row9_col7 {\n",
       "  font-size: 6pt;\n",
       "  background-color: #030303;\n",
       "  color: #f1f1f1;\n",
       "}\n",
       "#T_a59d1_row9_col12 {\n",
       "  font-size: 6pt;\n",
       "  background-color: #181818;\n",
       "  color: #f1f1f1;\n",
       "}\n",
       "#T_a59d1_row9_col13 {\n",
       "  font-size: 6pt;\n",
       "  background-color: #303030;\n",
       "  color: #f1f1f1;\n",
       "}\n",
       "#T_a59d1_row9_col14 {\n",
       "  font-size: 6pt;\n",
       "  background-color: #a9a9a9;\n",
       "  color: #f1f1f1;\n",
       "}\n",
       "#T_a59d1_row9_col15 {\n",
       "  font-size: 6pt;\n",
       "  background-color: #fefefe;\n",
       "  color: #000000;\n",
       "}\n",
       "#T_a59d1_row10_col8, #T_a59d1_row10_col9 {\n",
       "  font-size: 6pt;\n",
       "  background-color: #bababa;\n",
       "  color: #000000;\n",
       "}\n",
       "#T_a59d1_row10_col10 {\n",
       "  font-size: 6pt;\n",
       "  background-color: #393939;\n",
       "  color: #f1f1f1;\n",
       "}\n",
       "</style>\n",
       "<table id=\"T_a59d1\">\n",
       "  <thead>\n",
       "    <tr>\n",
       "      <th class=\"blank level0\" >&nbsp;</th>\n",
       "      <th id=\"T_a59d1_level0_col0\" class=\"col_heading level0 col0\" >0</th>\n",
       "      <th id=\"T_a59d1_level0_col1\" class=\"col_heading level0 col1\" >1</th>\n",
       "      <th id=\"T_a59d1_level0_col2\" class=\"col_heading level0 col2\" >2</th>\n",
       "      <th id=\"T_a59d1_level0_col3\" class=\"col_heading level0 col3\" >3</th>\n",
       "      <th id=\"T_a59d1_level0_col4\" class=\"col_heading level0 col4\" >4</th>\n",
       "      <th id=\"T_a59d1_level0_col5\" class=\"col_heading level0 col5\" >5</th>\n",
       "      <th id=\"T_a59d1_level0_col6\" class=\"col_heading level0 col6\" >6</th>\n",
       "      <th id=\"T_a59d1_level0_col7\" class=\"col_heading level0 col7\" >7</th>\n",
       "      <th id=\"T_a59d1_level0_col8\" class=\"col_heading level0 col8\" >8</th>\n",
       "      <th id=\"T_a59d1_level0_col9\" class=\"col_heading level0 col9\" >9</th>\n",
       "      <th id=\"T_a59d1_level0_col10\" class=\"col_heading level0 col10\" >10</th>\n",
       "      <th id=\"T_a59d1_level0_col11\" class=\"col_heading level0 col11\" >11</th>\n",
       "      <th id=\"T_a59d1_level0_col12\" class=\"col_heading level0 col12\" >12</th>\n",
       "      <th id=\"T_a59d1_level0_col13\" class=\"col_heading level0 col13\" >13</th>\n",
       "      <th id=\"T_a59d1_level0_col14\" class=\"col_heading level0 col14\" >14</th>\n",
       "      <th id=\"T_a59d1_level0_col15\" class=\"col_heading level0 col15\" >15</th>\n",
       "      <th id=\"T_a59d1_level0_col16\" class=\"col_heading level0 col16\" >16</th>\n",
       "      <th id=\"T_a59d1_level0_col17\" class=\"col_heading level0 col17\" >17</th>\n",
       "    </tr>\n",
       "  </thead>\n",
       "  <tbody>\n",
       "    <tr>\n",
       "      <th id=\"T_a59d1_level0_row0\" class=\"row_heading level0 row0\" >0</th>\n",
       "      <td id=\"T_a59d1_row0_col0\" class=\"data row0 col0\" >0</td>\n",
       "      <td id=\"T_a59d1_row0_col1\" class=\"data row0 col1\" >0</td>\n",
       "      <td id=\"T_a59d1_row0_col2\" class=\"data row0 col2\" >0</td>\n",
       "      <td id=\"T_a59d1_row0_col3\" class=\"data row0 col3\" >0</td>\n",
       "      <td id=\"T_a59d1_row0_col4\" class=\"data row0 col4\" >0</td>\n",
       "      <td id=\"T_a59d1_row0_col5\" class=\"data row0 col5\" >0</td>\n",
       "      <td id=\"T_a59d1_row0_col6\" class=\"data row0 col6\" >0</td>\n",
       "      <td id=\"T_a59d1_row0_col7\" class=\"data row0 col7\" >0</td>\n",
       "      <td id=\"T_a59d1_row0_col8\" class=\"data row0 col8\" >0</td>\n",
       "      <td id=\"T_a59d1_row0_col9\" class=\"data row0 col9\" >0</td>\n",
       "      <td id=\"T_a59d1_row0_col10\" class=\"data row0 col10\" >0</td>\n",
       "      <td id=\"T_a59d1_row0_col11\" class=\"data row0 col11\" >0</td>\n",
       "      <td id=\"T_a59d1_row0_col12\" class=\"data row0 col12\" >0</td>\n",
       "      <td id=\"T_a59d1_row0_col13\" class=\"data row0 col13\" >0</td>\n",
       "      <td id=\"T_a59d1_row0_col14\" class=\"data row0 col14\" >0</td>\n",
       "      <td id=\"T_a59d1_row0_col15\" class=\"data row0 col15\" >0</td>\n",
       "      <td id=\"T_a59d1_row0_col16\" class=\"data row0 col16\" >0</td>\n",
       "      <td id=\"T_a59d1_row0_col17\" class=\"data row0 col17\" >0</td>\n",
       "    </tr>\n",
       "    <tr>\n",
       "      <th id=\"T_a59d1_level0_row1\" class=\"row_heading level0 row1\" >1</th>\n",
       "      <td id=\"T_a59d1_row1_col0\" class=\"data row1 col0\" >0</td>\n",
       "      <td id=\"T_a59d1_row1_col1\" class=\"data row1 col1\" >0</td>\n",
       "      <td id=\"T_a59d1_row1_col2\" class=\"data row1 col2\" >0</td>\n",
       "      <td id=\"T_a59d1_row1_col3\" class=\"data row1 col3\" >0</td>\n",
       "      <td id=\"T_a59d1_row1_col4\" class=\"data row1 col4\" >0</td>\n",
       "      <td id=\"T_a59d1_row1_col5\" class=\"data row1 col5\" >29</td>\n",
       "      <td id=\"T_a59d1_row1_col6\" class=\"data row1 col6\" >150</td>\n",
       "      <td id=\"T_a59d1_row1_col7\" class=\"data row1 col7\" >195</td>\n",
       "      <td id=\"T_a59d1_row1_col8\" class=\"data row1 col8\" >254</td>\n",
       "      <td id=\"T_a59d1_row1_col9\" class=\"data row1 col9\" >255</td>\n",
       "      <td id=\"T_a59d1_row1_col10\" class=\"data row1 col10\" >254</td>\n",
       "      <td id=\"T_a59d1_row1_col11\" class=\"data row1 col11\" >176</td>\n",
       "      <td id=\"T_a59d1_row1_col12\" class=\"data row1 col12\" >193</td>\n",
       "      <td id=\"T_a59d1_row1_col13\" class=\"data row1 col13\" >150</td>\n",
       "      <td id=\"T_a59d1_row1_col14\" class=\"data row1 col14\" >96</td>\n",
       "      <td id=\"T_a59d1_row1_col15\" class=\"data row1 col15\" >0</td>\n",
       "      <td id=\"T_a59d1_row1_col16\" class=\"data row1 col16\" >0</td>\n",
       "      <td id=\"T_a59d1_row1_col17\" class=\"data row1 col17\" >0</td>\n",
       "    </tr>\n",
       "    <tr>\n",
       "      <th id=\"T_a59d1_level0_row2\" class=\"row_heading level0 row2\" >2</th>\n",
       "      <td id=\"T_a59d1_row2_col0\" class=\"data row2 col0\" >0</td>\n",
       "      <td id=\"T_a59d1_row2_col1\" class=\"data row2 col1\" >0</td>\n",
       "      <td id=\"T_a59d1_row2_col2\" class=\"data row2 col2\" >0</td>\n",
       "      <td id=\"T_a59d1_row2_col3\" class=\"data row2 col3\" >48</td>\n",
       "      <td id=\"T_a59d1_row2_col4\" class=\"data row2 col4\" >166</td>\n",
       "      <td id=\"T_a59d1_row2_col5\" class=\"data row2 col5\" >224</td>\n",
       "      <td id=\"T_a59d1_row2_col6\" class=\"data row2 col6\" >253</td>\n",
       "      <td id=\"T_a59d1_row2_col7\" class=\"data row2 col7\" >253</td>\n",
       "      <td id=\"T_a59d1_row2_col8\" class=\"data row2 col8\" >234</td>\n",
       "      <td id=\"T_a59d1_row2_col9\" class=\"data row2 col9\" >196</td>\n",
       "      <td id=\"T_a59d1_row2_col10\" class=\"data row2 col10\" >253</td>\n",
       "      <td id=\"T_a59d1_row2_col11\" class=\"data row2 col11\" >253</td>\n",
       "      <td id=\"T_a59d1_row2_col12\" class=\"data row2 col12\" >253</td>\n",
       "      <td id=\"T_a59d1_row2_col13\" class=\"data row2 col13\" >253</td>\n",
       "      <td id=\"T_a59d1_row2_col14\" class=\"data row2 col14\" >233</td>\n",
       "      <td id=\"T_a59d1_row2_col15\" class=\"data row2 col15\" >0</td>\n",
       "      <td id=\"T_a59d1_row2_col16\" class=\"data row2 col16\" >0</td>\n",
       "      <td id=\"T_a59d1_row2_col17\" class=\"data row2 col17\" >0</td>\n",
       "    </tr>\n",
       "    <tr>\n",
       "      <th id=\"T_a59d1_level0_row3\" class=\"row_heading level0 row3\" >3</th>\n",
       "      <td id=\"T_a59d1_row3_col0\" class=\"data row3 col0\" >0</td>\n",
       "      <td id=\"T_a59d1_row3_col1\" class=\"data row3 col1\" >93</td>\n",
       "      <td id=\"T_a59d1_row3_col2\" class=\"data row3 col2\" >244</td>\n",
       "      <td id=\"T_a59d1_row3_col3\" class=\"data row3 col3\" >249</td>\n",
       "      <td id=\"T_a59d1_row3_col4\" class=\"data row3 col4\" >253</td>\n",
       "      <td id=\"T_a59d1_row3_col5\" class=\"data row3 col5\" >187</td>\n",
       "      <td id=\"T_a59d1_row3_col6\" class=\"data row3 col6\" >46</td>\n",
       "      <td id=\"T_a59d1_row3_col7\" class=\"data row3 col7\" >10</td>\n",
       "      <td id=\"T_a59d1_row3_col8\" class=\"data row3 col8\" >8</td>\n",
       "      <td id=\"T_a59d1_row3_col9\" class=\"data row3 col9\" >4</td>\n",
       "      <td id=\"T_a59d1_row3_col10\" class=\"data row3 col10\" >10</td>\n",
       "      <td id=\"T_a59d1_row3_col11\" class=\"data row3 col11\" >194</td>\n",
       "      <td id=\"T_a59d1_row3_col12\" class=\"data row3 col12\" >253</td>\n",
       "      <td id=\"T_a59d1_row3_col13\" class=\"data row3 col13\" >253</td>\n",
       "      <td id=\"T_a59d1_row3_col14\" class=\"data row3 col14\" >233</td>\n",
       "      <td id=\"T_a59d1_row3_col15\" class=\"data row3 col15\" >0</td>\n",
       "      <td id=\"T_a59d1_row3_col16\" class=\"data row3 col16\" >0</td>\n",
       "      <td id=\"T_a59d1_row3_col17\" class=\"data row3 col17\" >0</td>\n",
       "    </tr>\n",
       "    <tr>\n",
       "      <th id=\"T_a59d1_level0_row4\" class=\"row_heading level0 row4\" >4</th>\n",
       "      <td id=\"T_a59d1_row4_col0\" class=\"data row4 col0\" >0</td>\n",
       "      <td id=\"T_a59d1_row4_col1\" class=\"data row4 col1\" >107</td>\n",
       "      <td id=\"T_a59d1_row4_col2\" class=\"data row4 col2\" >253</td>\n",
       "      <td id=\"T_a59d1_row4_col3\" class=\"data row4 col3\" >253</td>\n",
       "      <td id=\"T_a59d1_row4_col4\" class=\"data row4 col4\" >230</td>\n",
       "      <td id=\"T_a59d1_row4_col5\" class=\"data row4 col5\" >48</td>\n",
       "      <td id=\"T_a59d1_row4_col6\" class=\"data row4 col6\" >0</td>\n",
       "      <td id=\"T_a59d1_row4_col7\" class=\"data row4 col7\" >0</td>\n",
       "      <td id=\"T_a59d1_row4_col8\" class=\"data row4 col8\" >0</td>\n",
       "      <td id=\"T_a59d1_row4_col9\" class=\"data row4 col9\" >0</td>\n",
       "      <td id=\"T_a59d1_row4_col10\" class=\"data row4 col10\" >0</td>\n",
       "      <td id=\"T_a59d1_row4_col11\" class=\"data row4 col11\" >192</td>\n",
       "      <td id=\"T_a59d1_row4_col12\" class=\"data row4 col12\" >253</td>\n",
       "      <td id=\"T_a59d1_row4_col13\" class=\"data row4 col13\" >253</td>\n",
       "      <td id=\"T_a59d1_row4_col14\" class=\"data row4 col14\" >156</td>\n",
       "      <td id=\"T_a59d1_row4_col15\" class=\"data row4 col15\" >0</td>\n",
       "      <td id=\"T_a59d1_row4_col16\" class=\"data row4 col16\" >0</td>\n",
       "      <td id=\"T_a59d1_row4_col17\" class=\"data row4 col17\" >0</td>\n",
       "    </tr>\n",
       "    <tr>\n",
       "      <th id=\"T_a59d1_level0_row5\" class=\"row_heading level0 row5\" >5</th>\n",
       "      <td id=\"T_a59d1_row5_col0\" class=\"data row5 col0\" >0</td>\n",
       "      <td id=\"T_a59d1_row5_col1\" class=\"data row5 col1\" >3</td>\n",
       "      <td id=\"T_a59d1_row5_col2\" class=\"data row5 col2\" >20</td>\n",
       "      <td id=\"T_a59d1_row5_col3\" class=\"data row5 col3\" >20</td>\n",
       "      <td id=\"T_a59d1_row5_col4\" class=\"data row5 col4\" >15</td>\n",
       "      <td id=\"T_a59d1_row5_col5\" class=\"data row5 col5\" >0</td>\n",
       "      <td id=\"T_a59d1_row5_col6\" class=\"data row5 col6\" >0</td>\n",
       "      <td id=\"T_a59d1_row5_col7\" class=\"data row5 col7\" >0</td>\n",
       "      <td id=\"T_a59d1_row5_col8\" class=\"data row5 col8\" >0</td>\n",
       "      <td id=\"T_a59d1_row5_col9\" class=\"data row5 col9\" >0</td>\n",
       "      <td id=\"T_a59d1_row5_col10\" class=\"data row5 col10\" >43</td>\n",
       "      <td id=\"T_a59d1_row5_col11\" class=\"data row5 col11\" >224</td>\n",
       "      <td id=\"T_a59d1_row5_col12\" class=\"data row5 col12\" >253</td>\n",
       "      <td id=\"T_a59d1_row5_col13\" class=\"data row5 col13\" >245</td>\n",
       "      <td id=\"T_a59d1_row5_col14\" class=\"data row5 col14\" >74</td>\n",
       "      <td id=\"T_a59d1_row5_col15\" class=\"data row5 col15\" >0</td>\n",
       "      <td id=\"T_a59d1_row5_col16\" class=\"data row5 col16\" >0</td>\n",
       "      <td id=\"T_a59d1_row5_col17\" class=\"data row5 col17\" >0</td>\n",
       "    </tr>\n",
       "    <tr>\n",
       "      <th id=\"T_a59d1_level0_row6\" class=\"row_heading level0 row6\" >6</th>\n",
       "      <td id=\"T_a59d1_row6_col0\" class=\"data row6 col0\" >0</td>\n",
       "      <td id=\"T_a59d1_row6_col1\" class=\"data row6 col1\" >0</td>\n",
       "      <td id=\"T_a59d1_row6_col2\" class=\"data row6 col2\" >0</td>\n",
       "      <td id=\"T_a59d1_row6_col3\" class=\"data row6 col3\" >0</td>\n",
       "      <td id=\"T_a59d1_row6_col4\" class=\"data row6 col4\" >0</td>\n",
       "      <td id=\"T_a59d1_row6_col5\" class=\"data row6 col5\" >0</td>\n",
       "      <td id=\"T_a59d1_row6_col6\" class=\"data row6 col6\" >0</td>\n",
       "      <td id=\"T_a59d1_row6_col7\" class=\"data row6 col7\" >0</td>\n",
       "      <td id=\"T_a59d1_row6_col8\" class=\"data row6 col8\" >0</td>\n",
       "      <td id=\"T_a59d1_row6_col9\" class=\"data row6 col9\" >0</td>\n",
       "      <td id=\"T_a59d1_row6_col10\" class=\"data row6 col10\" >249</td>\n",
       "      <td id=\"T_a59d1_row6_col11\" class=\"data row6 col11\" >253</td>\n",
       "      <td id=\"T_a59d1_row6_col12\" class=\"data row6 col12\" >245</td>\n",
       "      <td id=\"T_a59d1_row6_col13\" class=\"data row6 col13\" >126</td>\n",
       "      <td id=\"T_a59d1_row6_col14\" class=\"data row6 col14\" >0</td>\n",
       "      <td id=\"T_a59d1_row6_col15\" class=\"data row6 col15\" >0</td>\n",
       "      <td id=\"T_a59d1_row6_col16\" class=\"data row6 col16\" >0</td>\n",
       "      <td id=\"T_a59d1_row6_col17\" class=\"data row6 col17\" >0</td>\n",
       "    </tr>\n",
       "    <tr>\n",
       "      <th id=\"T_a59d1_level0_row7\" class=\"row_heading level0 row7\" >7</th>\n",
       "      <td id=\"T_a59d1_row7_col0\" class=\"data row7 col0\" >0</td>\n",
       "      <td id=\"T_a59d1_row7_col1\" class=\"data row7 col1\" >0</td>\n",
       "      <td id=\"T_a59d1_row7_col2\" class=\"data row7 col2\" >0</td>\n",
       "      <td id=\"T_a59d1_row7_col3\" class=\"data row7 col3\" >0</td>\n",
       "      <td id=\"T_a59d1_row7_col4\" class=\"data row7 col4\" >0</td>\n",
       "      <td id=\"T_a59d1_row7_col5\" class=\"data row7 col5\" >0</td>\n",
       "      <td id=\"T_a59d1_row7_col6\" class=\"data row7 col6\" >0</td>\n",
       "      <td id=\"T_a59d1_row7_col7\" class=\"data row7 col7\" >14</td>\n",
       "      <td id=\"T_a59d1_row7_col8\" class=\"data row7 col8\" >101</td>\n",
       "      <td id=\"T_a59d1_row7_col9\" class=\"data row7 col9\" >223</td>\n",
       "      <td id=\"T_a59d1_row7_col10\" class=\"data row7 col10\" >253</td>\n",
       "      <td id=\"T_a59d1_row7_col11\" class=\"data row7 col11\" >248</td>\n",
       "      <td id=\"T_a59d1_row7_col12\" class=\"data row7 col12\" >124</td>\n",
       "      <td id=\"T_a59d1_row7_col13\" class=\"data row7 col13\" >0</td>\n",
       "      <td id=\"T_a59d1_row7_col14\" class=\"data row7 col14\" >0</td>\n",
       "      <td id=\"T_a59d1_row7_col15\" class=\"data row7 col15\" >0</td>\n",
       "      <td id=\"T_a59d1_row7_col16\" class=\"data row7 col16\" >0</td>\n",
       "      <td id=\"T_a59d1_row7_col17\" class=\"data row7 col17\" >0</td>\n",
       "    </tr>\n",
       "    <tr>\n",
       "      <th id=\"T_a59d1_level0_row8\" class=\"row_heading level0 row8\" >8</th>\n",
       "      <td id=\"T_a59d1_row8_col0\" class=\"data row8 col0\" >0</td>\n",
       "      <td id=\"T_a59d1_row8_col1\" class=\"data row8 col1\" >0</td>\n",
       "      <td id=\"T_a59d1_row8_col2\" class=\"data row8 col2\" >0</td>\n",
       "      <td id=\"T_a59d1_row8_col3\" class=\"data row8 col3\" >0</td>\n",
       "      <td id=\"T_a59d1_row8_col4\" class=\"data row8 col4\" >0</td>\n",
       "      <td id=\"T_a59d1_row8_col5\" class=\"data row8 col5\" >11</td>\n",
       "      <td id=\"T_a59d1_row8_col6\" class=\"data row8 col6\" >166</td>\n",
       "      <td id=\"T_a59d1_row8_col7\" class=\"data row8 col7\" >239</td>\n",
       "      <td id=\"T_a59d1_row8_col8\" class=\"data row8 col8\" >253</td>\n",
       "      <td id=\"T_a59d1_row8_col9\" class=\"data row8 col9\" >253</td>\n",
       "      <td id=\"T_a59d1_row8_col10\" class=\"data row8 col10\" >253</td>\n",
       "      <td id=\"T_a59d1_row8_col11\" class=\"data row8 col11\" >187</td>\n",
       "      <td id=\"T_a59d1_row8_col12\" class=\"data row8 col12\" >30</td>\n",
       "      <td id=\"T_a59d1_row8_col13\" class=\"data row8 col13\" >0</td>\n",
       "      <td id=\"T_a59d1_row8_col14\" class=\"data row8 col14\" >0</td>\n",
       "      <td id=\"T_a59d1_row8_col15\" class=\"data row8 col15\" >0</td>\n",
       "      <td id=\"T_a59d1_row8_col16\" class=\"data row8 col16\" >0</td>\n",
       "      <td id=\"T_a59d1_row8_col17\" class=\"data row8 col17\" >0</td>\n",
       "    </tr>\n",
       "    <tr>\n",
       "      <th id=\"T_a59d1_level0_row9\" class=\"row_heading level0 row9\" >9</th>\n",
       "      <td id=\"T_a59d1_row9_col0\" class=\"data row9 col0\" >0</td>\n",
       "      <td id=\"T_a59d1_row9_col1\" class=\"data row9 col1\" >0</td>\n",
       "      <td id=\"T_a59d1_row9_col2\" class=\"data row9 col2\" >0</td>\n",
       "      <td id=\"T_a59d1_row9_col3\" class=\"data row9 col3\" >0</td>\n",
       "      <td id=\"T_a59d1_row9_col4\" class=\"data row9 col4\" >0</td>\n",
       "      <td id=\"T_a59d1_row9_col5\" class=\"data row9 col5\" >16</td>\n",
       "      <td id=\"T_a59d1_row9_col6\" class=\"data row9 col6\" >248</td>\n",
       "      <td id=\"T_a59d1_row9_col7\" class=\"data row9 col7\" >250</td>\n",
       "      <td id=\"T_a59d1_row9_col8\" class=\"data row9 col8\" >253</td>\n",
       "      <td id=\"T_a59d1_row9_col9\" class=\"data row9 col9\" >253</td>\n",
       "      <td id=\"T_a59d1_row9_col10\" class=\"data row9 col10\" >253</td>\n",
       "      <td id=\"T_a59d1_row9_col11\" class=\"data row9 col11\" >253</td>\n",
       "      <td id=\"T_a59d1_row9_col12\" class=\"data row9 col12\" >232</td>\n",
       "      <td id=\"T_a59d1_row9_col13\" class=\"data row9 col13\" >213</td>\n",
       "      <td id=\"T_a59d1_row9_col14\" class=\"data row9 col14\" >111</td>\n",
       "      <td id=\"T_a59d1_row9_col15\" class=\"data row9 col15\" >2</td>\n",
       "      <td id=\"T_a59d1_row9_col16\" class=\"data row9 col16\" >0</td>\n",
       "      <td id=\"T_a59d1_row9_col17\" class=\"data row9 col17\" >0</td>\n",
       "    </tr>\n",
       "    <tr>\n",
       "      <th id=\"T_a59d1_level0_row10\" class=\"row_heading level0 row10\" >10</th>\n",
       "      <td id=\"T_a59d1_row10_col0\" class=\"data row10 col0\" >0</td>\n",
       "      <td id=\"T_a59d1_row10_col1\" class=\"data row10 col1\" >0</td>\n",
       "      <td id=\"T_a59d1_row10_col2\" class=\"data row10 col2\" >0</td>\n",
       "      <td id=\"T_a59d1_row10_col3\" class=\"data row10 col3\" >0</td>\n",
       "      <td id=\"T_a59d1_row10_col4\" class=\"data row10 col4\" >0</td>\n",
       "      <td id=\"T_a59d1_row10_col5\" class=\"data row10 col5\" >0</td>\n",
       "      <td id=\"T_a59d1_row10_col6\" class=\"data row10 col6\" >0</td>\n",
       "      <td id=\"T_a59d1_row10_col7\" class=\"data row10 col7\" >43</td>\n",
       "      <td id=\"T_a59d1_row10_col8\" class=\"data row10 col8\" >98</td>\n",
       "      <td id=\"T_a59d1_row10_col9\" class=\"data row10 col9\" >98</td>\n",
       "      <td id=\"T_a59d1_row10_col10\" class=\"data row10 col10\" >208</td>\n",
       "      <td id=\"T_a59d1_row10_col11\" class=\"data row10 col11\" >253</td>\n",
       "      <td id=\"T_a59d1_row10_col12\" class=\"data row10 col12\" >253</td>\n",
       "      <td id=\"T_a59d1_row10_col13\" class=\"data row10 col13\" >253</td>\n",
       "      <td id=\"T_a59d1_row10_col14\" class=\"data row10 col14\" >253</td>\n",
       "      <td id=\"T_a59d1_row10_col15\" class=\"data row10 col15\" >187</td>\n",
       "      <td id=\"T_a59d1_row10_col16\" class=\"data row10 col16\" >22</td>\n",
       "      <td id=\"T_a59d1_row10_col17\" class=\"data row10 col17\" >0</td>\n",
       "    </tr>\n",
       "  </tbody>\n",
       "</table>\n"
      ],
      "text/plain": [
       "<pandas.io.formats.style.Styler at 0x7f3fda357c10>"
      ]
     },
     "execution_count": 10,
     "metadata": {},
     "output_type": "execute_result"
    }
   ],
   "source": [
    "im3_t = tensor(im3)\n",
    "df = pd.DataFrame(im3_t[4:15, 4:22])\n",
    "df.style.set_properties(**{'font-size': '6pt'}).background_gradient('Greys')"
   ]
  },
  {
   "cell_type": "markdown",
   "id": "b4d81d21",
   "metadata": {},
   "source": [
    "FYI: These images are 28*28 greyscale images (2D)"
   ]
  },
  {
   "cell_type": "markdown",
   "id": "1da8fda3",
   "metadata": {},
   "source": [
    "## H/w\n",
    "\n",
    "How would a model be able to recognize these 2 digits? What kind of features or patterns might it find?\n",
    "1. Horizontal lines\n",
    "2. Vertical lines\n",
    "3. Semi-circles (curves)\n",
    "4. Combinations of the above"
   ]
  },
  {
   "cell_type": "markdown",
   "id": "c2805a7f",
   "metadata": {},
   "source": [
    "## Baseline\n",
    "\n",
    "How about we find the average pixel value for **every** pixel of the\n",
    "3s, then do the same for the 7s. This will give us two group averages, defining what we might call the “ideal” 3 and 7. Then, to classify an image as one digit or the other,\n",
    "we see which of these two ideal digits the image is most similar to."
   ]
  },
  {
   "cell_type": "code",
   "execution_count": 11,
   "id": "cecc31bc",
   "metadata": {},
   "outputs": [
    {
     "data": {
      "text/plain": [
       "(6131, 6265)"
      ]
     },
     "execution_count": 11,
     "metadata": {},
     "output_type": "execute_result"
    }
   ],
   "source": [
    "# Lets convert all our 3s and 7s to tensors\n",
    "threes_tensors = [tensor(Image.open(path)) for path in threes]\n",
    "sevens_tensors = [tensor(Image.open(path)) for path in sevens]\n",
    "len(threes_tensors), len(sevens_tensors)"
   ]
  },
  {
   "cell_type": "code",
   "execution_count": 12,
   "id": "90f183a3",
   "metadata": {},
   "outputs": [
    {
     "data": {
      "text/plain": [
       "<Axes: >"
      ]
     },
     "execution_count": 12,
     "metadata": {},
     "output_type": "execute_result"
    },
    {
     "data": {
      "image/png": "[encoded data removed]",
      "text/plain": [
       "<Figure size 100x100 with 1 Axes>"
      ]
     },
     "metadata": {},
     "output_type": "display_data"
    }
   ],
   "source": [
    "# Let's use Fastai's fn to preview one of the images\n",
    "show_image(threes_tensors[1])"
   ]
  },
  {
   "cell_type": "code",
   "execution_count": 13,
   "id": "479ddb88",
   "metadata": {},
   "outputs": [
    {
     "data": {
      "text/plain": [
       "torch.Size([6131, 28, 28])"
      ]
     },
     "execution_count": 13,
     "metadata": {},
     "output_type": "execute_result"
    }
   ],
   "source": [
    "# Let's stack out images togethor\n",
    "# Generally, when images are floats, the pixel values are expected to be between 0 and 1, so we will also divide by 255 here:\n",
    "stacked_threes = torch.stack(threes_tensors).float()/255\n",
    "stacked_sevens = torch.stack(sevens_tensors).float()/255\n",
    "stacked_threes.shape"
   ]
  },
  {
   "cell_type": "code",
   "execution_count": 14,
   "id": "fc584840",
   "metadata": {},
   "outputs": [
    {
     "data": {
      "text/plain": [
       "(<Axes: >, <Axes: >)"
      ]
     },
     "execution_count": 14,
     "metadata": {},
     "output_type": "execute_result"
    },
    {
     "data": {
      "image/png": "[encoded data removed]",
      "text/plain": [
       "<Figure size 100x100 with 1 Axes>"
      ]
     },
     "metadata": {},
     "output_type": "display_data"
    },
    {
     "data": {
      "image/png": "[encoded data removed]",
      "text/plain": [
       "<Figure size 100x100 with 1 Axes>"
      ]
     },
     "metadata": {},
     "output_type": "display_data"
    }
   ],
   "source": [
    "# calculate mean along dimension 0\n",
    "# The result will be one value for every pixel position, or a single image\n",
    "mean3 = stacked_threes.mean(0)\n",
    "mean7 = stacked_sevens.mean(0)\n",
    "show_image(mean3), show_image(mean7)"
   ]
  },
  {
   "cell_type": "markdown",
   "id": "b25b901b",
   "metadata": {},
   "source": [
    "According to this dataset, this is the ideal number 3 and 7! You can see how it’s very dark where all the images agree it should be dark, but it becomes wispy and blurry where the images disagree.\n"
   ]
  },
  {
   "cell_type": "code",
   "execution_count": 15,
   "id": "9ad51950",
   "metadata": {},
   "outputs": [
    {
     "data": {
      "text/html": [
       "<style type=\"text/css\">\n",
       "#T_90baf_row0_col0, #T_90baf_row0_col1, #T_90baf_row0_col2, #T_90baf_row0_col10, #T_90baf_row0_col11, #T_90baf_row0_col12, #T_90baf_row0_col13, #T_90baf_row0_col14, #T_90baf_row0_col15, #T_90baf_row0_col16, #T_90baf_row0_col17, #T_90baf_row5_col8, #T_90baf_row5_col9, #T_90baf_row6_col5, #T_90baf_row6_col6, #T_90baf_row6_col7, #T_90baf_row7_col3, #T_90baf_row7_col4, #T_90baf_row7_col5, #T_90baf_row8_col2, #T_90baf_row8_col3, #T_90baf_row9_col1, #T_90baf_row9_col2 {\n",
       "  font-size: 6pt;\n",
       "  background-color: #ffffff;\n",
       "  color: #000000;\n",
       "}\n",
       "#T_90baf_row0_col3, #T_90baf_row10_col1 {\n",
       "  font-size: 6pt;\n",
       "  background-color: #fefefe;\n",
       "  color: #000000;\n",
       "}\n",
       "#T_90baf_row0_col4, #T_90baf_row0_col5, #T_90baf_row8_col1 {\n",
       "  font-size: 6pt;\n",
       "  background-color: #fbfbfb;\n",
       "  color: #000000;\n",
       "}\n",
       "#T_90baf_row0_col6 {\n",
       "  font-size: 6pt;\n",
       "  background-color: #f4f4f4;\n",
       "  color: #000000;\n",
       "}\n",
       "#T_90baf_row0_col7, #T_90baf_row7_col1 {\n",
       "  font-size: 6pt;\n",
       "  background-color: #f1f1f1;\n",
       "  color: #000000;\n",
       "}\n",
       "#T_90baf_row0_col8, #T_90baf_row7_col6 {\n",
       "  font-size: 6pt;\n",
       "  background-color: #f3f3f3;\n",
       "  color: #000000;\n",
       "}\n",
       "#T_90baf_row0_col9, #T_90baf_row5_col7, #T_90baf_row8_col0 {\n",
       "  font-size: 6pt;\n",
       "  background-color: #f7f7f7;\n",
       "  color: #000000;\n",
       "}\n",
       "#T_90baf_row1_col0, #T_90baf_row7_col0 {\n",
       "  font-size: 6pt;\n",
       "  background-color: #e4e4e4;\n",
       "  color: #000000;\n",
       "}\n",
       "#T_90baf_row1_col1 {\n",
       "  font-size: 6pt;\n",
       "  background-color: #d0d0d0;\n",
       "  color: #000000;\n",
       "}\n",
       "#T_90baf_row1_col2, #T_90baf_row5_col11 {\n",
       "  font-size: 6pt;\n",
       "  background-color: #c5c5c5;\n",
       "  color: #000000;\n",
       "}\n",
       "#T_90baf_row1_col3, #T_90baf_row9_col16 {\n",
       "  font-size: 6pt;\n",
       "  background-color: #b6b6b6;\n",
       "  color: #000000;\n",
       "}\n",
       "#T_90baf_row1_col4 {\n",
       "  font-size: 6pt;\n",
       "  background-color: #9a9a9a;\n",
       "  color: #f1f1f1;\n",
       "}\n",
       "#T_90baf_row1_col5 {\n",
       "  font-size: 6pt;\n",
       "  background-color: #848484;\n",
       "  color: #f1f1f1;\n",
       "}\n",
       "#T_90baf_row1_col6, #T_90baf_row5_col1 {\n",
       "  font-size: 6pt;\n",
       "  background-color: #6f6f6f;\n",
       "  color: #f1f1f1;\n",
       "}\n",
       "#T_90baf_row1_col7, #T_90baf_row1_col10, #T_90baf_row4_col4, #T_90baf_row10_col11 {\n",
       "  font-size: 6pt;\n",
       "  background-color: #5e5e5e;\n",
       "  color: #f1f1f1;\n",
       "}\n",
       "#T_90baf_row1_col8, #T_90baf_row2_col16 {\n",
       "  font-size: 6pt;\n",
       "  background-color: #555555;\n",
       "  color: #f1f1f1;\n",
       "}\n",
       "#T_90baf_row1_col9, #T_90baf_row3_col11, #T_90baf_row6_col15, #T_90baf_row7_col14 {\n",
       "  font-size: 6pt;\n",
       "  background-color: #585858;\n",
       "  color: #f1f1f1;\n",
       "}\n",
       "#T_90baf_row1_col11 {\n",
       "  font-size: 6pt;\n",
       "  background-color: #676767;\n",
       "  color: #f1f1f1;\n",
       "}\n",
       "#T_90baf_row1_col12 {\n",
       "  font-size: 6pt;\n",
       "  background-color: #6e6e6e;\n",
       "  color: #f1f1f1;\n",
       "}\n",
       "#T_90baf_row1_col13 {\n",
       "  font-size: 6pt;\n",
       "  background-color: #818181;\n",
       "  color: #f1f1f1;\n",
       "}\n",
       "#T_90baf_row1_col14 {\n",
       "  font-size: 6pt;\n",
       "  background-color: #9e9e9e;\n",
       "  color: #f1f1f1;\n",
       "}\n",
       "#T_90baf_row1_col15 {\n",
       "  font-size: 6pt;\n",
       "  background-color: #b8b8b8;\n",
       "  color: #000000;\n",
       "}\n",
       "#T_90baf_row1_col16, #T_90baf_row7_col16 {\n",
       "  font-size: 6pt;\n",
       "  background-color: #c4c4c4;\n",
       "  color: #000000;\n",
       "}\n",
       "#T_90baf_row1_col17 {\n",
       "  font-size: 6pt;\n",
       "  background-color: #cecece;\n",
       "  color: #000000;\n",
       "}\n",
       "#T_90baf_row2_col0 {\n",
       "  font-size: 6pt;\n",
       "  background-color: #7e7e7e;\n",
       "  color: #f1f1f1;\n",
       "}\n",
       "#T_90baf_row2_col1 {\n",
       "  font-size: 6pt;\n",
       "  background-color: #5f5f5f;\n",
       "  color: #f1f1f1;\n",
       "}\n",
       "#T_90baf_row2_col2 {\n",
       "  font-size: 6pt;\n",
       "  background-color: #4d4d4d;\n",
       "  color: #f1f1f1;\n",
       "}\n",
       "#T_90baf_row2_col3 {\n",
       "  font-size: 6pt;\n",
       "  background-color: #303030;\n",
       "  color: #f1f1f1;\n",
       "}\n",
       "#T_90baf_row2_col4, #T_90baf_row2_col11, #T_90baf_row10_col13 {\n",
       "  font-size: 6pt;\n",
       "  background-color: #111111;\n",
       "  color: #f1f1f1;\n",
       "}\n",
       "#T_90baf_row2_col5, #T_90baf_row2_col6, #T_90baf_row2_col7, #T_90baf_row3_col1, #T_90baf_row3_col2, #T_90baf_row3_col3, #T_90baf_row3_col4, #T_90baf_row3_col13, #T_90baf_row3_col14, #T_90baf_row4_col0, #T_90baf_row4_col15, #T_90baf_row4_col16, #T_90baf_row4_col17, #T_90baf_row8_col11, #T_90baf_row8_col12, #T_90baf_row9_col8, #T_90baf_row9_col9, #T_90baf_row9_col10 {\n",
       "  font-size: 6pt;\n",
       "  background-color: #000000;\n",
       "  color: #f1f1f1;\n",
       "}\n",
       "#T_90baf_row2_col8, #T_90baf_row2_col13, #T_90baf_row3_col5, #T_90baf_row5_col14 {\n",
       "  font-size: 6pt;\n",
       "  background-color: #070707;\n",
       "  color: #f1f1f1;\n",
       "}\n",
       "#T_90baf_row2_col9, #T_90baf_row3_col0 {\n",
       "  font-size: 6pt;\n",
       "  background-color: #161616;\n",
       "  color: #f1f1f1;\n",
       "}\n",
       "#T_90baf_row2_col10 {\n",
       "  font-size: 6pt;\n",
       "  background-color: #131313;\n",
       "  color: #f1f1f1;\n",
       "}\n",
       "#T_90baf_row2_col12, #T_90baf_row8_col10 {\n",
       "  font-size: 6pt;\n",
       "  background-color: #030303;\n",
       "  color: #f1f1f1;\n",
       "}\n",
       "#T_90baf_row2_col14, #T_90baf_row6_col14, #T_90baf_row8_col9, #T_90baf_row8_col13 {\n",
       "  font-size: 6pt;\n",
       "  background-color: #222222;\n",
       "  color: #f1f1f1;\n",
       "}\n",
       "#T_90baf_row2_col15, #T_90baf_row4_col3 {\n",
       "  font-size: 6pt;\n",
       "  background-color: #474747;\n",
       "  color: #f1f1f1;\n",
       "}\n",
       "#T_90baf_row2_col17, #T_90baf_row3_col8, #T_90baf_row5_col0 {\n",
       "  font-size: 6pt;\n",
       "  background-color: #5d5d5d;\n",
       "  color: #f1f1f1;\n",
       "}\n",
       "#T_90baf_row3_col6, #T_90baf_row3_col12 {\n",
       "  font-size: 6pt;\n",
       "  background-color: #232323;\n",
       "  color: #f1f1f1;\n",
       "}\n",
       "#T_90baf_row3_col7 {\n",
       "  font-size: 6pt;\n",
       "  background-color: #3f3f3f;\n",
       "  color: #f1f1f1;\n",
       "}\n",
       "#T_90baf_row3_col9 {\n",
       "  font-size: 6pt;\n",
       "  background-color: #727272;\n",
       "  color: #f1f1f1;\n",
       "}\n",
       "#T_90baf_row3_col10 {\n",
       "  font-size: 6pt;\n",
       "  background-color: #707070;\n",
       "  color: #f1f1f1;\n",
       "}\n",
       "#T_90baf_row3_col15, #T_90baf_row3_col16, #T_90baf_row3_col17, #T_90baf_row10_col14 {\n",
       "  font-size: 6pt;\n",
       "  background-color: #080808;\n",
       "  color: #f1f1f1;\n",
       "}\n",
       "#T_90baf_row4_col1, #T_90baf_row6_col13 {\n",
       "  font-size: 6pt;\n",
       "  background-color: #0f0f0f;\n",
       "  color: #f1f1f1;\n",
       "}\n",
       "#T_90baf_row4_col2, #T_90baf_row5_col16 {\n",
       "  font-size: 6pt;\n",
       "  background-color: #292929;\n",
       "  color: #f1f1f1;\n",
       "}\n",
       "#T_90baf_row4_col5 {\n",
       "  font-size: 6pt;\n",
       "  background-color: #787878;\n",
       "  color: #f1f1f1;\n",
       "}\n",
       "#T_90baf_row4_col6 {\n",
       "  font-size: 6pt;\n",
       "  background-color: #989898;\n",
       "  color: #f1f1f1;\n",
       "}\n",
       "#T_90baf_row4_col7 {\n",
       "  font-size: 6pt;\n",
       "  background-color: #bbbbbb;\n",
       "  color: #000000;\n",
       "}\n",
       "#T_90baf_row4_col8 {\n",
       "  font-size: 6pt;\n",
       "  background-color: #d5d5d5;\n",
       "  color: #000000;\n",
       "}\n",
       "#T_90baf_row4_col9, #T_90baf_row7_col17, #T_90baf_row9_col4 {\n",
       "  font-size: 6pt;\n",
       "  background-color: #e1e1e1;\n",
       "  color: #000000;\n",
       "}\n",
       "#T_90baf_row4_col10, #T_90baf_row5_col5 {\n",
       "  font-size: 6pt;\n",
       "  background-color: #dfdfdf;\n",
       "  color: #000000;\n",
       "}\n",
       "#T_90baf_row4_col11 {\n",
       "  font-size: 6pt;\n",
       "  background-color: #b5b5b5;\n",
       "  color: #000000;\n",
       "}\n",
       "#T_90baf_row4_col12 {\n",
       "  font-size: 6pt;\n",
       "  background-color: #696969;\n",
       "  color: #f1f1f1;\n",
       "}\n",
       "#T_90baf_row4_col13 {\n",
       "  font-size: 6pt;\n",
       "  background-color: #1f1f1f;\n",
       "  color: #f1f1f1;\n",
       "}\n",
       "#T_90baf_row4_col14 {\n",
       "  font-size: 6pt;\n",
       "  background-color: #010101;\n",
       "  color: #f1f1f1;\n",
       "}\n",
       "#T_90baf_row5_col2 {\n",
       "  font-size: 6pt;\n",
       "  background-color: #8a8a8a;\n",
       "  color: #f1f1f1;\n",
       "}\n",
       "#T_90baf_row5_col3 {\n",
       "  font-size: 6pt;\n",
       "  background-color: #adadad;\n",
       "  color: #000000;\n",
       "}\n",
       "#T_90baf_row5_col4 {\n",
       "  font-size: 6pt;\n",
       "  background-color: #c6c6c6;\n",
       "  color: #000000;\n",
       "}\n",
       "#T_90baf_row5_col6 {\n",
       "  font-size: 6pt;\n",
       "  background-color: #ececec;\n",
       "  color: #000000;\n",
       "}\n",
       "#T_90baf_row5_col10, #T_90baf_row6_col4, #T_90baf_row8_col4 {\n",
       "  font-size: 6pt;\n",
       "  background-color: #f6f6f6;\n",
       "  color: #000000;\n",
       "}\n",
       "#T_90baf_row5_col12, #T_90baf_row8_col14 {\n",
       "  font-size: 6pt;\n",
       "  background-color: #6d6d6d;\n",
       "  color: #f1f1f1;\n",
       "}\n",
       "#T_90baf_row5_col13 {\n",
       "  font-size: 6pt;\n",
       "  background-color: #1d1d1d;\n",
       "  color: #f1f1f1;\n",
       "}\n",
       "#T_90baf_row5_col15, #T_90baf_row7_col13, #T_90baf_row9_col13 {\n",
       "  font-size: 6pt;\n",
       "  background-color: #171717;\n",
       "  color: #f1f1f1;\n",
       "}\n",
       "#T_90baf_row5_col17 {\n",
       "  font-size: 6pt;\n",
       "  background-color: #434343;\n",
       "  color: #f1f1f1;\n",
       "}\n",
       "#T_90baf_row6_col0 {\n",
       "  font-size: 6pt;\n",
       "  background-color: #b9b9b9;\n",
       "  color: #000000;\n",
       "}\n",
       "#T_90baf_row6_col1 {\n",
       "  font-size: 6pt;\n",
       "  background-color: #cccccc;\n",
       "  color: #000000;\n",
       "}\n",
       "#T_90baf_row6_col2 {\n",
       "  font-size: 6pt;\n",
       "  background-color: #dddddd;\n",
       "  color: #000000;\n",
       "}\n",
       "#T_90baf_row6_col3, #T_90baf_row8_col17 {\n",
       "  font-size: 6pt;\n",
       "  background-color: #eeeeee;\n",
       "  color: #000000;\n",
       "}\n",
       "#T_90baf_row6_col8, #T_90baf_row10_col2 {\n",
       "  font-size: 6pt;\n",
       "  background-color: #fdfdfd;\n",
       "  color: #000000;\n",
       "}\n",
       "#T_90baf_row6_col9 {\n",
       "  font-size: 6pt;\n",
       "  background-color: #f0f0f0;\n",
       "  color: #000000;\n",
       "}\n",
       "#T_90baf_row6_col10 {\n",
       "  font-size: 6pt;\n",
       "  background-color: #d1d1d1;\n",
       "  color: #000000;\n",
       "}\n",
       "#T_90baf_row6_col11 {\n",
       "  font-size: 6pt;\n",
       "  background-color: #878787;\n",
       "  color: #f1f1f1;\n",
       "}\n",
       "#T_90baf_row6_col12 {\n",
       "  font-size: 6pt;\n",
       "  background-color: #3c3c3c;\n",
       "  color: #f1f1f1;\n",
       "}\n",
       "#T_90baf_row6_col16 {\n",
       "  font-size: 6pt;\n",
       "  background-color: #7b7b7b;\n",
       "  color: #f1f1f1;\n",
       "}\n",
       "#T_90baf_row6_col17 {\n",
       "  font-size: 6pt;\n",
       "  background-color: #9d9d9d;\n",
       "  color: #f1f1f1;\n",
       "}\n",
       "#T_90baf_row7_col2, #T_90baf_row9_col3 {\n",
       "  font-size: 6pt;\n",
       "  background-color: #f9f9f9;\n",
       "  color: #000000;\n",
       "}\n",
       "#T_90baf_row7_col7 {\n",
       "  font-size: 6pt;\n",
       "  background-color: #e0e0e0;\n",
       "  color: #000000;\n",
       "}\n",
       "#T_90baf_row7_col8 {\n",
       "  font-size: 6pt;\n",
       "  background-color: #c3c3c3;\n",
       "  color: #000000;\n",
       "}\n",
       "#T_90baf_row7_col9, #T_90baf_row7_col15 {\n",
       "  font-size: 6pt;\n",
       "  background-color: #949494;\n",
       "  color: #f1f1f1;\n",
       "}\n",
       "#T_90baf_row7_col10 {\n",
       "  font-size: 6pt;\n",
       "  background-color: #646464;\n",
       "  color: #f1f1f1;\n",
       "}\n",
       "#T_90baf_row7_col11 {\n",
       "  font-size: 6pt;\n",
       "  background-color: #333333;\n",
       "  color: #f1f1f1;\n",
       "}\n",
       "#T_90baf_row7_col12 {\n",
       "  font-size: 6pt;\n",
       "  background-color: #101010;\n",
       "  color: #f1f1f1;\n",
       "}\n",
       "#T_90baf_row8_col5 {\n",
       "  font-size: 6pt;\n",
       "  background-color: #e3e3e3;\n",
       "  color: #000000;\n",
       "}\n",
       "#T_90baf_row8_col6 {\n",
       "  font-size: 6pt;\n",
       "  background-color: #b4b4b4;\n",
       "  color: #000000;\n",
       "}\n",
       "#T_90baf_row8_col7 {\n",
       "  font-size: 6pt;\n",
       "  background-color: #767676;\n",
       "  color: #f1f1f1;\n",
       "}\n",
       "#T_90baf_row8_col8 {\n",
       "  font-size: 6pt;\n",
       "  background-color: #464646;\n",
       "  color: #f1f1f1;\n",
       "}\n",
       "#T_90baf_row8_col15 {\n",
       "  font-size: 6pt;\n",
       "  background-color: #aeaeae;\n",
       "  color: #000000;\n",
       "}\n",
       "#T_90baf_row8_col16, #T_90baf_row10_col4 {\n",
       "  font-size: 6pt;\n",
       "  background-color: #d9d9d9;\n",
       "  color: #000000;\n",
       "}\n",
       "#T_90baf_row9_col0, #T_90baf_row10_col0 {\n",
       "  font-size: 6pt;\n",
       "  background-color: #fcfcfc;\n",
       "  color: #000000;\n",
       "}\n",
       "#T_90baf_row9_col5 {\n",
       "  font-size: 6pt;\n",
       "  background-color: #b0b0b0;\n",
       "  color: #000000;\n",
       "}\n",
       "#T_90baf_row9_col6 {\n",
       "  font-size: 6pt;\n",
       "  background-color: #686868;\n",
       "  color: #f1f1f1;\n",
       "}\n",
       "#T_90baf_row9_col7 {\n",
       "  font-size: 6pt;\n",
       "  background-color: #242424;\n",
       "  color: #f1f1f1;\n",
       "}\n",
       "#T_90baf_row9_col11 {\n",
       "  font-size: 6pt;\n",
       "  background-color: #0e0e0e;\n",
       "  color: #f1f1f1;\n",
       "}\n",
       "#T_90baf_row9_col12 {\n",
       "  font-size: 6pt;\n",
       "  background-color: #0a0a0a;\n",
       "  color: #f1f1f1;\n",
       "}\n",
       "#T_90baf_row9_col14 {\n",
       "  font-size: 6pt;\n",
       "  background-color: #484848;\n",
       "  color: #f1f1f1;\n",
       "}\n",
       "#T_90baf_row9_col15 {\n",
       "  font-size: 6pt;\n",
       "  background-color: #838383;\n",
       "  color: #f1f1f1;\n",
       "}\n",
       "#T_90baf_row9_col17 {\n",
       "  font-size: 6pt;\n",
       "  background-color: #d3d3d3;\n",
       "  color: #000000;\n",
       "}\n",
       "#T_90baf_row10_col3 {\n",
       "  font-size: 6pt;\n",
       "  background-color: #f5f5f5;\n",
       "  color: #000000;\n",
       "}\n",
       "#T_90baf_row10_col5 {\n",
       "  font-size: 6pt;\n",
       "  background-color: #a3a3a3;\n",
       "  color: #f1f1f1;\n",
       "}\n",
       "#T_90baf_row10_col6 {\n",
       "  font-size: 6pt;\n",
       "  background-color: #6a6a6a;\n",
       "  color: #f1f1f1;\n",
       "}\n",
       "#T_90baf_row10_col7 {\n",
       "  font-size: 6pt;\n",
       "  background-color: #444444;\n",
       "  color: #f1f1f1;\n",
       "}\n",
       "#T_90baf_row10_col8 {\n",
       "  font-size: 6pt;\n",
       "  background-color: #393939;\n",
       "  color: #f1f1f1;\n",
       "}\n",
       "#T_90baf_row10_col9 {\n",
       "  font-size: 6pt;\n",
       "  background-color: #515151;\n",
       "  color: #f1f1f1;\n",
       "}\n",
       "#T_90baf_row10_col10 {\n",
       "  font-size: 6pt;\n",
       "  background-color: #5c5c5c;\n",
       "  color: #f1f1f1;\n",
       "}\n",
       "#T_90baf_row10_col12 {\n",
       "  font-size: 6pt;\n",
       "  background-color: #3d3d3d;\n",
       "  color: #f1f1f1;\n",
       "}\n",
       "#T_90baf_row10_col15 {\n",
       "  font-size: 6pt;\n",
       "  background-color: #272727;\n",
       "  color: #f1f1f1;\n",
       "}\n",
       "#T_90baf_row10_col16 {\n",
       "  font-size: 6pt;\n",
       "  background-color: #575757;\n",
       "  color: #f1f1f1;\n",
       "}\n",
       "#T_90baf_row10_col17 {\n",
       "  font-size: 6pt;\n",
       "  background-color: #777777;\n",
       "  color: #f1f1f1;\n",
       "}\n",
       "</style>\n",
       "<table id=\"T_90baf\">\n",
       "  <thead>\n",
       "    <tr>\n",
       "      <th class=\"blank level0\" >&nbsp;</th>\n",
       "      <th id=\"T_90baf_level0_col0\" class=\"col_heading level0 col0\" >0</th>\n",
       "      <th id=\"T_90baf_level0_col1\" class=\"col_heading level0 col1\" >1</th>\n",
       "      <th id=\"T_90baf_level0_col2\" class=\"col_heading level0 col2\" >2</th>\n",
       "      <th id=\"T_90baf_level0_col3\" class=\"col_heading level0 col3\" >3</th>\n",
       "      <th id=\"T_90baf_level0_col4\" class=\"col_heading level0 col4\" >4</th>\n",
       "      <th id=\"T_90baf_level0_col5\" class=\"col_heading level0 col5\" >5</th>\n",
       "      <th id=\"T_90baf_level0_col6\" class=\"col_heading level0 col6\" >6</th>\n",
       "      <th id=\"T_90baf_level0_col7\" class=\"col_heading level0 col7\" >7</th>\n",
       "      <th id=\"T_90baf_level0_col8\" class=\"col_heading level0 col8\" >8</th>\n",
       "      <th id=\"T_90baf_level0_col9\" class=\"col_heading level0 col9\" >9</th>\n",
       "      <th id=\"T_90baf_level0_col10\" class=\"col_heading level0 col10\" >10</th>\n",
       "      <th id=\"T_90baf_level0_col11\" class=\"col_heading level0 col11\" >11</th>\n",
       "      <th id=\"T_90baf_level0_col12\" class=\"col_heading level0 col12\" >12</th>\n",
       "      <th id=\"T_90baf_level0_col13\" class=\"col_heading level0 col13\" >13</th>\n",
       "      <th id=\"T_90baf_level0_col14\" class=\"col_heading level0 col14\" >14</th>\n",
       "      <th id=\"T_90baf_level0_col15\" class=\"col_heading level0 col15\" >15</th>\n",
       "      <th id=\"T_90baf_level0_col16\" class=\"col_heading level0 col16\" >16</th>\n",
       "      <th id=\"T_90baf_level0_col17\" class=\"col_heading level0 col17\" >17</th>\n",
       "    </tr>\n",
       "  </thead>\n",
       "  <tbody>\n",
       "    <tr>\n",
       "      <th id=\"T_90baf_level0_row0\" class=\"row_heading level0 row0\" >0</th>\n",
       "      <td id=\"T_90baf_row0_col0\" class=\"data row0 col0\" >0.001400</td>\n",
       "      <td id=\"T_90baf_row0_col1\" class=\"data row0 col1\" >0.005785</td>\n",
       "      <td id=\"T_90baf_row0_col2\" class=\"data row0 col2\" >0.013664</td>\n",
       "      <td id=\"T_90baf_row0_col3\" class=\"data row0 col3\" >0.030111</td>\n",
       "      <td id=\"T_90baf_row0_col4\" class=\"data row0 col4\" >0.055401</td>\n",
       "      <td id=\"T_90baf_row0_col5\" class=\"data row0 col5\" >0.090316</td>\n",
       "      <td id=\"T_90baf_row0_col6\" class=\"data row0 col6\" >0.137247</td>\n",
       "      <td id=\"T_90baf_row0_col7\" class=\"data row0 col7\" >0.183566</td>\n",
       "      <td id=\"T_90baf_row0_col8\" class=\"data row0 col8\" >0.221279</td>\n",
       "      <td id=\"T_90baf_row0_col9\" class=\"data row0 col9\" >0.246549</td>\n",
       "      <td id=\"T_90baf_row0_col10\" class=\"data row0 col10\" >0.249719</td>\n",
       "      <td id=\"T_90baf_row0_col11\" class=\"data row0 col11\" >0.235358</td>\n",
       "      <td id=\"T_90baf_row0_col12\" class=\"data row0 col12\" >0.198716</td>\n",
       "      <td id=\"T_90baf_row0_col13\" class=\"data row0 col13\" >0.150844</td>\n",
       "      <td id=\"T_90baf_row0_col14\" class=\"data row0 col14\" >0.105427</td>\n",
       "      <td id=\"T_90baf_row0_col15\" class=\"data row0 col15\" >0.064754</td>\n",
       "      <td id=\"T_90baf_row0_col16\" class=\"data row0 col16\" >0.032829</td>\n",
       "      <td id=\"T_90baf_row0_col17\" class=\"data row0 col17\" >0.013352</td>\n",
       "    </tr>\n",
       "    <tr>\n",
       "      <th id=\"T_90baf_level0_row1\" class=\"row_heading level0 row1\" >1</th>\n",
       "      <td id=\"T_90baf_row1_col0\" class=\"data row1 col0\" >0.008891</td>\n",
       "      <td id=\"T_90baf_row1_col1\" class=\"data row1 col1\" >0.027837</td>\n",
       "      <td id=\"T_90baf_row1_col2\" class=\"data row1 col2\" >0.061064</td>\n",
       "      <td id=\"T_90baf_row1_col3\" class=\"data row1 col3\" >0.112706</td>\n",
       "      <td id=\"T_90baf_row1_col4\" class=\"data row1 col4\" >0.186884</td>\n",
       "      <td id=\"T_90baf_row1_col5\" class=\"data row1 col5\" >0.280245</td>\n",
       "      <td id=\"T_90baf_row1_col6\" class=\"data row1 col6\" >0.382971</td>\n",
       "      <td id=\"T_90baf_row1_col7\" class=\"data row1 col7\" >0.480244</td>\n",
       "      <td id=\"T_90baf_row1_col8\" class=\"data row1 col8\" >0.558773</td>\n",
       "      <td id=\"T_90baf_row1_col9\" class=\"data row1 col9\" >0.613238</td>\n",
       "      <td id=\"T_90baf_row1_col10\" class=\"data row1 col10\" >0.623291</td>\n",
       "      <td id=\"T_90baf_row1_col11\" class=\"data row1 col11\" >0.597713</td>\n",
       "      <td id=\"T_90baf_row1_col12\" class=\"data row1 col12\" >0.528347</td>\n",
       "      <td id=\"T_90baf_row1_col13\" class=\"data row1 col13\" >0.421000</td>\n",
       "      <td id=\"T_90baf_row1_col14\" class=\"data row1 col14\" >0.305756</td>\n",
       "      <td id=\"T_90baf_row1_col15\" class=\"data row1 col15\" >0.203470</td>\n",
       "      <td id=\"T_90baf_row1_col16\" class=\"data row1 col16\" >0.117423</td>\n",
       "      <td id=\"T_90baf_row1_col17\" class=\"data row1 col17\" >0.053793</td>\n",
       "    </tr>\n",
       "    <tr>\n",
       "      <th id=\"T_90baf_level0_row2\" class=\"row_heading level0 row2\" >2</th>\n",
       "      <td id=\"T_90baf_row2_col0\" class=\"data row2 col0\" >0.024498</td>\n",
       "      <td id=\"T_90baf_row2_col1\" class=\"data row2 col1\" >0.059899</td>\n",
       "      <td id=\"T_90baf_row2_col2\" class=\"data row2 col2\" >0.120376</td>\n",
       "      <td id=\"T_90baf_row2_col3\" class=\"data row2 col3\" >0.207547</td>\n",
       "      <td id=\"T_90baf_row2_col4\" class=\"data row2 col4\" >0.319394</td>\n",
       "      <td id=\"T_90baf_row2_col5\" class=\"data row2 col5\" >0.435468</td>\n",
       "      <td id=\"T_90baf_row2_col6\" class=\"data row2 col6\" >0.544466</td>\n",
       "      <td id=\"T_90baf_row2_col7\" class=\"data row2 col7\" >0.627637</td>\n",
       "      <td id=\"T_90baf_row2_col8\" class=\"data row2 col8\" >0.685036</td>\n",
       "      <td id=\"T_90baf_row2_col9\" class=\"data row2 col9\" >0.723949</td>\n",
       "      <td id=\"T_90baf_row2_col10\" class=\"data row2 col10\" >0.744886</td>\n",
       "      <td id=\"T_90baf_row2_col11\" class=\"data row2 col11\" >0.744625</td>\n",
       "      <td id=\"T_90baf_row2_col12\" class=\"data row2 col12\" >0.705004</td>\n",
       "      <td id=\"T_90baf_row2_col13\" class=\"data row2 col13\" >0.608746</td>\n",
       "      <td id=\"T_90baf_row2_col14\" class=\"data row2 col14\" >0.479163</td>\n",
       "      <td id=\"T_90baf_row2_col15\" class=\"data row2 col15\" >0.339491</td>\n",
       "      <td id=\"T_90baf_row2_col16\" class=\"data row2 col16\" >0.213218</td>\n",
       "      <td id=\"T_90baf_row2_col17\" class=\"data row2 col17\" >0.108683</td>\n",
       "    </tr>\n",
       "    <tr>\n",
       "      <th id=\"T_90baf_level0_row3\" class=\"row_heading level0 row3\" >3</th>\n",
       "      <td id=\"T_90baf_row3_col0\" class=\"data row3 col0\" >0.037895</td>\n",
       "      <td id=\"T_90baf_row3_col1\" class=\"data row3 col1\" >0.082921</td>\n",
       "      <td id=\"T_90baf_row3_col2\" class=\"data row3 col2\" >0.153822</td>\n",
       "      <td id=\"T_90baf_row3_col3\" class=\"data row3 col3\" >0.241572</td>\n",
       "      <td id=\"T_90baf_row3_col4\" class=\"data row3 col4\" >0.337670</td>\n",
       "      <td id=\"T_90baf_row3_col5\" class=\"data row3 col5\" >0.426816</td>\n",
       "      <td id=\"T_90baf_row3_col6\" class=\"data row3 col6\" >0.491613</td>\n",
       "      <td id=\"T_90baf_row3_col7\" class=\"data row3 col7\" >0.528414</td>\n",
       "      <td id=\"T_90baf_row3_col8\" class=\"data row3 col8\" >0.544748</td>\n",
       "      <td id=\"T_90baf_row3_col9\" class=\"data row3 col9\" >0.558829</td>\n",
       "      <td id=\"T_90baf_row3_col10\" class=\"data row3 col10\" >0.586409</td>\n",
       "      <td id=\"T_90baf_row3_col11\" class=\"data row3 col11\" >0.627503</td>\n",
       "      <td id=\"T_90baf_row3_col12\" class=\"data row3 col12\" >0.651254</td>\n",
       "      <td id=\"T_90baf_row3_col13\" class=\"data row3 col13\" >0.621123</td>\n",
       "      <td id=\"T_90baf_row3_col14\" class=\"data row3 col14\" >0.528493</td>\n",
       "      <td id=\"T_90baf_row3_col15\" class=\"data row3 col15\" >0.407527</td>\n",
       "      <td id=\"T_90baf_row3_col16\" class=\"data row3 col16\" >0.270252</td>\n",
       "      <td id=\"T_90baf_row3_col17\" class=\"data row3 col17\" >0.144119</td>\n",
       "    </tr>\n",
       "    <tr>\n",
       "      <th id=\"T_90baf_level0_row4\" class=\"row_heading level0 row4\" >4</th>\n",
       "      <td id=\"T_90baf_row4_col0\" class=\"data row4 col0\" >0.040899</td>\n",
       "      <td id=\"T_90baf_row4_col1\" class=\"data row4 col1\" >0.078775</td>\n",
       "      <td id=\"T_90baf_row4_col2\" class=\"data row4 col2\" >0.134423</td>\n",
       "      <td id=\"T_90baf_row4_col3\" class=\"data row4 col3\" >0.194570</td>\n",
       "      <td id=\"T_90baf_row4_col4\" class=\"data row4 col4\" >0.250744</td>\n",
       "      <td id=\"T_90baf_row4_col5\" class=\"data row4 col5\" >0.294886</td>\n",
       "      <td id=\"T_90baf_row4_col6\" class=\"data row4 col6\" >0.316929</td>\n",
       "      <td id=\"T_90baf_row4_col7\" class=\"data row4 col7\" >0.317466</td>\n",
       "      <td id=\"T_90baf_row4_col8\" class=\"data row4 col8\" >0.311332</td>\n",
       "      <td id=\"T_90baf_row4_col9\" class=\"data row4 col9\" >0.321823</td>\n",
       "      <td id=\"T_90baf_row4_col10\" class=\"data row4 col10\" >0.366340</td>\n",
       "      <td id=\"T_90baf_row4_col11\" class=\"data row4 col11\" >0.452056</td>\n",
       "      <td id=\"T_90baf_row4_col12\" class=\"data row4 col12\" >0.537596</td>\n",
       "      <td id=\"T_90baf_row4_col13\" class=\"data row4 col13\" >0.570680</td>\n",
       "      <td id=\"T_90baf_row4_col14\" class=\"data row4 col14\" >0.526004</td>\n",
       "      <td id=\"T_90baf_row4_col15\" class=\"data row4 col15\" >0.417367</td>\n",
       "      <td id=\"T_90baf_row4_col16\" class=\"data row4 col16\" >0.277697</td>\n",
       "      <td id=\"T_90baf_row4_col17\" class=\"data row4 col17\" >0.147914</td>\n",
       "    </tr>\n",
       "    <tr>\n",
       "      <th id=\"T_90baf_level0_row5\" class=\"row_heading level0 row5\" >5</th>\n",
       "      <td id=\"T_90baf_row5_col0\" class=\"data row5 col0\" >0.029371</td>\n",
       "      <td id=\"T_90baf_row5_col1\" class=\"data row5 col1\" >0.054969</td>\n",
       "      <td id=\"T_90baf_row5_col2\" class=\"data row5 col2\" >0.089482</td>\n",
       "      <td id=\"T_90baf_row5_col3\" class=\"data row5 col3\" >0.119549</td>\n",
       "      <td id=\"T_90baf_row5_col4\" class=\"data row5 col4\" >0.141732</td>\n",
       "      <td id=\"T_90baf_row5_col5\" class=\"data row5 col5\" >0.155846</td>\n",
       "      <td id=\"T_90baf_row5_col6\" class=\"data row5 col6\" >0.161737</td>\n",
       "      <td id=\"T_90baf_row5_col7\" class=\"data row5 col7\" >0.161483</td>\n",
       "      <td id=\"T_90baf_row5_col8\" class=\"data row5 col8\" >0.169577</td>\n",
       "      <td id=\"T_90baf_row5_col9\" class=\"data row5 col9\" >0.205845</td>\n",
       "      <td id=\"T_90baf_row5_col10\" class=\"data row5 col10\" >0.292121</td>\n",
       "      <td id=\"T_90baf_row5_col11\" class=\"data row5 col11\" >0.418709</td>\n",
       "      <td id=\"T_90baf_row5_col12\" class=\"data row5 col12\" >0.530466</td>\n",
       "      <td id=\"T_90baf_row5_col13\" class=\"data row5 col13\" >0.574460</td>\n",
       "      <td id=\"T_90baf_row5_col14\" class=\"data row5 col14\" >0.516988</td>\n",
       "      <td id=\"T_90baf_row5_col15\" class=\"data row5 col15\" >0.388448</td>\n",
       "      <td id=\"T_90baf_row5_col16\" class=\"data row5 col16\" >0.243504</td>\n",
       "      <td id=\"T_90baf_row5_col17\" class=\"data row5 col17\" >0.119844</td>\n",
       "    </tr>\n",
       "    <tr>\n",
       "      <th id=\"T_90baf_level0_row6\" class=\"row_heading level0 row6\" >6</th>\n",
       "      <td id=\"T_90baf_row6_col0\" class=\"data row6 col0\" >0.016751</td>\n",
       "      <td id=\"T_90baf_row6_col1\" class=\"data row6 col1\" >0.029374</td>\n",
       "      <td id=\"T_90baf_row6_col2\" class=\"data row6 col2\" >0.045093</td>\n",
       "      <td id=\"T_90baf_row6_col3\" class=\"data row6 col3\" >0.057854</td>\n",
       "      <td id=\"T_90baf_row6_col4\" class=\"data row6 col4\" >0.068061</td>\n",
       "      <td id=\"T_90baf_row6_col5\" class=\"data row6 col5\" >0.078151</td>\n",
       "      <td id=\"T_90baf_row6_col6\" class=\"data row6 col6\" >0.095189</td>\n",
       "      <td id=\"T_90baf_row6_col7\" class=\"data row6 col7\" >0.125334</td>\n",
       "      <td id=\"T_90baf_row6_col8\" class=\"data row6 col8\" >0.180255</td>\n",
       "      <td id=\"T_90baf_row6_col9\" class=\"data row6 col9\" >0.274191</td>\n",
       "      <td id=\"T_90baf_row6_col10\" class=\"data row6 col10\" >0.402676</td>\n",
       "      <td id=\"T_90baf_row6_col11\" class=\"data row6 col11\" >0.533542</td>\n",
       "      <td id=\"T_90baf_row6_col12\" class=\"data row6 col12\" >0.613732</td>\n",
       "      <td id=\"T_90baf_row6_col13\" class=\"data row6 col13\" >0.596561</td>\n",
       "      <td id=\"T_90baf_row6_col14\" class=\"data row6 col14\" >0.479787</td>\n",
       "      <td id=\"T_90baf_row6_col15\" class=\"data row6 col15\" >0.320040</td>\n",
       "      <td id=\"T_90baf_row6_col16\" class=\"data row6 col16\" >0.178850</td>\n",
       "      <td id=\"T_90baf_row6_col17\" class=\"data row6 col17\" >0.077661</td>\n",
       "    </tr>\n",
       "    <tr>\n",
       "      <th id=\"T_90baf_level0_row7\" class=\"row_heading level0 row7\" >7</th>\n",
       "      <td id=\"T_90baf_row7_col0\" class=\"data row7 col0\" >0.008830</td>\n",
       "      <td id=\"T_90baf_row7_col1\" class=\"data row7 col1\" >0.014541</td>\n",
       "      <td id=\"T_90baf_row7_col2\" class=\"data row7 col2\" >0.020740</td>\n",
       "      <td id=\"T_90baf_row7_col3\" class=\"data row7 col3\" >0.029064</td>\n",
       "      <td id=\"T_90baf_row7_col4\" class=\"data row7 col4\" >0.044311</td>\n",
       "      <td id=\"T_90baf_row7_col5\" class=\"data row7 col5\" >0.077774</td>\n",
       "      <td id=\"T_90baf_row7_col6\" class=\"data row7 col6\" >0.139567</td>\n",
       "      <td id=\"T_90baf_row7_col7\" class=\"data row7 col7\" >0.233103</td>\n",
       "      <td id=\"T_90baf_row7_col8\" class=\"data row7 col8\" >0.355094</td>\n",
       "      <td id=\"T_90baf_row7_col9\" class=\"data row7 col9\" >0.488722</td>\n",
       "      <td id=\"T_90baf_row7_col10\" class=\"data row7 col10\" >0.609877</td>\n",
       "      <td id=\"T_90baf_row7_col11\" class=\"data row7 col11\" >0.686927</td>\n",
       "      <td id=\"T_90baf_row7_col12\" class=\"data row7 col12\" >0.682756</td>\n",
       "      <td id=\"T_90baf_row7_col13\" class=\"data row7 col13\" >0.583634</td>\n",
       "      <td id=\"T_90baf_row7_col14\" class=\"data row7 col14\" >0.411548</td>\n",
       "      <td id=\"T_90baf_row7_col15\" class=\"data row7 col15\" >0.243455</td>\n",
       "      <td id=\"T_90baf_row7_col16\" class=\"data row7 col16\" >0.117685</td>\n",
       "      <td id=\"T_90baf_row7_col17\" class=\"data row7 col17\" >0.041552</td>\n",
       "    </tr>\n",
       "    <tr>\n",
       "      <th id=\"T_90baf_level0_row8\" class=\"row_heading level0 row8\" >8</th>\n",
       "      <td id=\"T_90baf_row8_col0\" class=\"data row8 col0\" >0.004140</td>\n",
       "      <td id=\"T_90baf_row8_col1\" class=\"data row8 col1\" >0.008184</td>\n",
       "      <td id=\"T_90baf_row8_col2\" class=\"data row8 col2\" >0.013161</td>\n",
       "      <td id=\"T_90baf_row8_col3\" class=\"data row8 col3\" >0.027825</td>\n",
       "      <td id=\"T_90baf_row8_col4\" class=\"data row8 col4\" >0.066674</td>\n",
       "      <td id=\"T_90baf_row8_col5\" class=\"data row8 col5\" >0.148576</td>\n",
       "      <td id=\"T_90baf_row8_col6\" class=\"data row8 col6\" >0.277629</td>\n",
       "      <td id=\"T_90baf_row8_col7\" class=\"data row8 col7\" >0.434851</td>\n",
       "      <td id=\"T_90baf_row8_col8\" class=\"data row8 col8\" >0.583601</td>\n",
       "      <td id=\"T_90baf_row8_col9\" class=\"data row8 col9\" >0.702844</td>\n",
       "      <td id=\"T_90baf_row8_col10\" class=\"data row8 col10\" >0.771496</td>\n",
       "      <td id=\"T_90baf_row8_col11\" class=\"data row8 col11\" >0.776609</td>\n",
       "      <td id=\"T_90baf_row8_col12\" class=\"data row8 col12\" >0.711618</td>\n",
       "      <td id=\"T_90baf_row8_col13\" class=\"data row8 col13\" >0.567792</td>\n",
       "      <td id=\"T_90baf_row8_col14\" class=\"data row8 col14\" >0.379196</td>\n",
       "      <td id=\"T_90baf_row8_col15\" class=\"data row8 col15\" >0.214115</td>\n",
       "      <td id=\"T_90baf_row8_col16\" class=\"data row8 col16\" >0.094611</td>\n",
       "      <td id=\"T_90baf_row8_col17\" class=\"data row8 col17\" >0.031342</td>\n",
       "    </tr>\n",
       "    <tr>\n",
       "      <th id=\"T_90baf_level0_row9\" class=\"row_heading level0 row9\" >9</th>\n",
       "      <td id=\"T_90baf_row9_col0\" class=\"data row9 col0\" >0.002578</td>\n",
       "      <td id=\"T_90baf_row9_col1\" class=\"data row9 col1\" >0.005404</td>\n",
       "      <td id=\"T_90baf_row9_col2\" class=\"data row9 col2\" >0.014138</td>\n",
       "      <td id=\"T_90baf_row9_col3\" class=\"data row9 col3\" >0.039151</td>\n",
       "      <td id=\"T_90baf_row9_col4\" class=\"data row9 col4\" >0.105018</td>\n",
       "      <td id=\"T_90baf_row9_col5\" class=\"data row9 col5\" >0.226397</td>\n",
       "      <td id=\"T_90baf_row9_col6\" class=\"data row9 col6\" >0.394396</td>\n",
       "      <td id=\"T_90baf_row9_col7\" class=\"data row9 col7\" >0.565736</td>\n",
       "      <td id=\"T_90baf_row9_col8\" class=\"data row9 col8\" >0.698465</td>\n",
       "      <td id=\"T_90baf_row9_col9\" class=\"data row9 col9\" >0.767186</td>\n",
       "      <td id=\"T_90baf_row9_col10\" class=\"data row9 col10\" >0.779502</td>\n",
       "      <td id=\"T_90baf_row9_col11\" class=\"data row9 col11\" >0.750809</td>\n",
       "      <td id=\"T_90baf_row9_col12\" class=\"data row9 col12\" >0.692383</td>\n",
       "      <td id=\"T_90baf_row9_col13\" class=\"data row9 col13\" >0.582668</td>\n",
       "      <td id=\"T_90baf_row9_col14\" class=\"data row9 col14\" >0.432789</td>\n",
       "      <td id=\"T_90baf_row9_col15\" class=\"data row9 col15\" >0.265491</td>\n",
       "      <td id=\"T_90baf_row9_col16\" class=\"data row9 col16\" >0.129954</td>\n",
       "      <td id=\"T_90baf_row9_col17\" class=\"data row9 col17\" >0.050904</td>\n",
       "    </tr>\n",
       "    <tr>\n",
       "      <th id=\"T_90baf_level0_row10\" class=\"row_heading level0 row10\" >10</th>\n",
       "      <td id=\"T_90baf_row10_col0\" class=\"data row10 col0\" >0.002576</td>\n",
       "      <td id=\"T_90baf_row10_col1\" class=\"data row10 col1\" >0.006555</td>\n",
       "      <td id=\"T_90baf_row10_col2\" class=\"data row10 col2\" >0.015612</td>\n",
       "      <td id=\"T_90baf_row10_col3\" class=\"data row10 col3\" >0.045825</td>\n",
       "      <td id=\"T_90baf_row10_col4\" class=\"data row10 col4\" >0.117882</td>\n",
       "      <td id=\"T_90baf_row10_col5\" class=\"data row10 col5\" >0.241330</td>\n",
       "      <td id=\"T_90baf_row10_col6\" class=\"data row10 col6\" >0.390152</td>\n",
       "      <td id=\"T_90baf_row10_col7\" class=\"data row10 col7\" >0.521587</td>\n",
       "      <td id=\"T_90baf_row10_col8\" class=\"data row10 col8\" >0.602649</td>\n",
       "      <td id=\"T_90baf_row10_col9\" class=\"data row10 col9\" >0.628689</td>\n",
       "      <td id=\"T_90baf_row10_col10\" class=\"data row10 col10\" >0.627575</td>\n",
       "      <td id=\"T_90baf_row10_col11\" class=\"data row10 col11\" >0.617246</td>\n",
       "      <td id=\"T_90baf_row10_col12\" class=\"data row10 col12\" >0.613110</td>\n",
       "      <td id=\"T_90baf_row10_col13\" class=\"data row10 col13\" >0.592724</td>\n",
       "      <td id=\"T_90baf_row10_col14\" class=\"data row10 col14\" >0.515439</td>\n",
       "      <td id=\"T_90baf_row10_col15\" class=\"data row10 col15\" >0.370657</td>\n",
       "      <td id=\"T_90baf_row10_col16\" class=\"data row10 col16\" >0.210795</td>\n",
       "      <td id=\"T_90baf_row10_col17\" class=\"data row10 col17\" >0.095741</td>\n",
       "    </tr>\n",
       "  </tbody>\n",
       "</table>\n"
      ],
      "text/plain": [
       "<pandas.io.formats.style.Styler at 0x7f3fda118280>"
      ]
     },
     "execution_count": 15,
     "metadata": {},
     "output_type": "execute_result"
    }
   ],
   "source": [
    "df = pd.DataFrame(mean3[4:15, 4:22])\n",
    "df.style.set_properties(**{'font-size': '6pt'}).background_gradient('Greys')"
   ]
  },
  {
   "cell_type": "markdown",
   "id": "8e2f9b24",
   "metadata": {},
   "source": [
    "## H/w\n",
    "\n",
    "How would you calculate how similar a particular image is to each\n",
    "of our ideal digits?\n",
    "\n",
    "* Calculate the difference of each pixel ❌"
   ]
  },
  {
   "cell_type": "markdown",
   "id": "b30e7e9f",
   "metadata": {},
   "source": [
    "### Distance from ideal"
   ]
  },
  {
   "cell_type": "markdown",
   "id": "0d121d08",
   "metadata": {},
   "source": [
    "Data scientists use 2 ways:\n",
    "1. Take the mean of the absolute value of differences (absolute value is the function that replaces negative values with positive values). This is called the mean absolute difference or L1 norm.\n",
    "2. Take the mean of the square of differences (which makes everything positive) and then take the square root (which undoes the squaring). This is called the root mean squared error (RMSE) or L2 norm."
   ]
  },
  {
   "cell_type": "code",
   "execution_count": 16,
   "id": "b5ff8711",
   "metadata": {},
   "outputs": [
    {
     "data": {
      "text/plain": [
       "((tensor(0.1074), tensor(0.1912)), (tensor(0.1441), tensor(0.2780)))"
      ]
     },
     "execution_count": 16,
     "metadata": {},
     "output_type": "execute_result"
    }
   ],
   "source": [
    "# Mean absolute value (L1 norm)\n",
    "dist_3_abs = (stacked_threes[0] - mean3).abs().mean() \n",
    "dist_7_abs = (stacked_threes[0] - mean7).abs().mean()\n",
    "\n",
    "# Root mean squarred error (RMSE)\n",
    "dist_3_sqr = ((stacked_threes[0] - mean3)**2).mean().sqrt()\n",
    "dist_7_sqr = ((stacked_threes[0] - mean7)**2).mean().sqrt()\n",
    "\n",
    "((dist_3_abs, dist_3_sqr), (dist_7_abs, dist_7_sqr))"
   ]
  },
  {
   "cell_type": "markdown",
   "id": "6ee1dad4",
   "metadata": {},
   "source": [
    "**NB:**\n",
    "For both L1 and L2, the distance between our 3 `stacked_threes[0]` and the 'ideal 3' is less than the distance to the 'ideal 7'\n",
    "\n",
    "PyTorch already provides both of these as **loss functions**. You’ll find these inside\n",
    "`torch.nn.functional`, which the PyTorch team recommends importing as `F` (and is available by default under that name in fastai):"
   ]
  },
  {
   "cell_type": "code",
   "execution_count": 17,
   "id": "be46b9a5",
   "metadata": {},
   "outputs": [
    {
     "data": {
      "text/plain": [
       "(tensor(0.1074), tensor(0.1912))"
      ]
     },
     "execution_count": 17,
     "metadata": {},
     "output_type": "execute_result"
    }
   ],
   "source": [
    "F.l1_loss(stacked_threes[0].float(), mean3), \\\n",
    "F.mse_loss(stacked_threes[0], mean3).sqrt()"
   ]
  },
  {
   "cell_type": "markdown",
   "id": "09e3a1e6",
   "metadata": {},
   "source": [
    "* Let's use a metric that is easier to understand how well our model is doing. We shall use *accuracy*\n",
    "* We shall calculate it based on the *validation* set"
   ]
  },
  {
   "cell_type": "code",
   "execution_count": 18,
   "id": "a8a4e794",
   "metadata": {},
   "outputs": [
    {
     "data": {
      "text/plain": [
       "1028"
      ]
     },
     "execution_count": 18,
     "metadata": {},
     "output_type": "execute_result"
    }
   ],
   "source": [
    "val_7s = [tensor(Image.open(path)) for path in (path/'valid'/'7').ls()]\n",
    "len(val_7s)"
   ]
  },
  {
   "cell_type": "code",
   "execution_count": 19,
   "id": "baa45150",
   "metadata": {},
   "outputs": [
    {
     "data": {
      "text/plain": [
       "1010"
      ]
     },
     "execution_count": 19,
     "metadata": {},
     "output_type": "execute_result"
    }
   ],
   "source": [
    "val_3s = [tensor(Image.open(path)) for path in (path/'valid'/'3').ls()]\n",
    "len(val_3s)"
   ]
  },
  {
   "cell_type": "code",
   "execution_count": 20,
   "id": "363716fe",
   "metadata": {},
   "outputs": [
    {
     "data": {
      "text/plain": [
       "(torch.Size([1010, 28, 28]), torch.Size([1028, 28, 28]))"
      ]
     },
     "execution_count": 20,
     "metadata": {},
     "output_type": "execute_result"
    }
   ],
   "source": [
    "val_7s_stack = torch.stack(val_7s)\n",
    "val_3s_stack = torch.stack(val_3s)\n",
    "val_3s_stack.shape, val_7s_stack.shape"
   ]
  },
  {
   "cell_type": "code",
   "execution_count": 21,
   "id": "3f057c0e",
   "metadata": {},
   "outputs": [],
   "source": [
    "val_3s_converted = val_3s_stack.float()/255\n",
    "val_7s_converted = val_7s_stack.float()/255"
   ]
  },
  {
   "cell_type": "markdown",
   "id": "16301e9c",
   "metadata": {},
   "source": [
    "* We ultimately want to write a function, `is_3()`, that will decide whether an arbitrary image is a 3 or a 7. \n",
    "* It will do this by deciding which of our two “ideal digits” that arbitrary image is closer to. \n",
    "* For that we need to define a notion of distance—that is, a function that calculates the distance between two images.\n"
   ]
  },
  {
   "cell_type": "code",
   "execution_count": 22,
   "id": "35f1c6c2",
   "metadata": {},
   "outputs": [],
   "source": [
    "def get_distance(a, b):\n",
    "    # we pass (-1, -2) to mean in order to specify that it should calculate the mean based on the last and 2nd last axes\n",
    "    return (a - b).abs().mean((-1, -2)) "
   ]
  },
  {
   "cell_type": "markdown",
   "id": "eeab4056",
   "metadata": {},
   "source": [
    "[Further read on mean() params](https://forums.fast.ai/t/understanding-mean-1-2-in-mnist-distance/84430)"
   ]
  },
  {
   "cell_type": "code",
   "execution_count": 23,
   "id": "f2f7c632",
   "metadata": {},
   "outputs": [
    {
     "data": {
      "text/plain": [
       "tensor(0.1074)"
      ]
     },
     "execution_count": 23,
     "metadata": {},
     "output_type": "execute_result"
    }
   ],
   "source": [
    "# lets test it with the previous image\n",
    "get_distance(stacked_threes[0], mean3)"
   ]
  },
  {
   "cell_type": "code",
   "execution_count": 24,
   "id": "78f3515f",
   "metadata": {},
   "outputs": [
    {
     "data": {
      "text/plain": [
       "(tensor([0.1197, 0.1133, 0.1364,  ..., 0.1107, 0.1082, 0.1113]),\n",
       " torch.Size([1010]))"
      ]
     },
     "execution_count": 24,
     "metadata": {},
     "output_type": "execute_result"
    }
   ],
   "source": [
    "# Lets use our validation sets with our fn\n",
    "val_3_distances = get_distance(val_3s_converted, mean3)\n",
    "val_3_distances, val_3_distances.shape"
   ]
  },
  {
   "cell_type": "markdown",
   "id": "6f9bfbca",
   "metadata": {},
   "source": [
    "How does PyTorch subtract a rank-3 tensor (`val_3s_converted`) from a rank-2 tensor (`mean3`) without complaining about shape mistmatch?\n",
    "* The magic trick is that PyTorch, when it tries to perform a simple\n",
    "subtraction operation between two tensors of different ranks, will use **broadcasting**: it will automatically expand the tensor with the smaller rank to have the same size as the one with the larger rank."
   ]
  },
  {
   "cell_type": "code",
   "execution_count": 25,
   "id": "1e1c9ef4",
   "metadata": {},
   "outputs": [],
   "source": [
    "def is_3(x):\n",
    "    return get_distance(x, mean3) < get_distance(x, mean7)"
   ]
  },
  {
   "cell_type": "code",
   "execution_count": 26,
   "id": "cbef7c23",
   "metadata": {},
   "outputs": [
    {
     "data": {
      "text/plain": [
       "(tensor(False), tensor(1.))"
      ]
     },
     "execution_count": 26,
     "metadata": {},
     "output_type": "execute_result"
    }
   ],
   "source": [
    "# Let's test our new fn\n",
    "is_3(stacked_sevens[0]), is_3(stacked_threes[0]).float()"
   ]
  },
  {
   "cell_type": "code",
   "execution_count": 27,
   "id": "3cba67a8",
   "metadata": {},
   "outputs": [
    {
     "data": {
      "text/plain": [
       "tensor([True, True, True,  ..., True, True, True])"
      ]
     },
     "execution_count": 27,
     "metadata": {},
     "output_type": "execute_result"
    }
   ],
   "source": [
    "is_3(val_3s_converted)"
   ]
  },
  {
   "cell_type": "markdown",
   "id": "9d3da03e",
   "metadata": {},
   "source": [
    "Now we can calculate the accuracy for each of the 3s and 7s, by taking the average of that function for all 3s and its inverse for all 7s:"
   ]
  },
  {
   "cell_type": "code",
   "execution_count": 28,
   "id": "08c3f5ba",
   "metadata": {},
   "outputs": [
    {
     "data": {
      "text/plain": [
       "(tensor(0.9168), tensor(0.9854))"
      ]
     },
     "execution_count": 28,
     "metadata": {},
     "output_type": "execute_result"
    }
   ],
   "source": [
    "accuracy_3s = is_3(val_3s_converted).float() .mean()\n",
    "accuracy_7s = (1 - is_3(val_7s_converted).float()).mean()\n",
    "\n",
    "accuracy_3s, accuracy_7s"
   ]
  },
  {
   "cell_type": "markdown",
   "id": "a594c994",
   "metadata": {},
   "source": [
    "## Gradients"
   ]
  },
  {
   "cell_type": "code",
   "execution_count": 29,
   "id": "28e48889",
   "metadata": {},
   "outputs": [
    {
     "data": {
      "text/plain": [
       "tensor([ 3.,  4., 10.])"
      ]
     },
     "execution_count": 29,
     "metadata": {},
     "output_type": "execute_result"
    }
   ],
   "source": [
    "x = tensor([3., 4., 10.])\n",
    "x"
   ]
  },
  {
   "cell_type": "code",
   "execution_count": 30,
   "id": "f9387811",
   "metadata": {},
   "outputs": [
    {
     "data": {
      "text/plain": [
       "tensor([ 3.,  4., 10.], requires_grad=True)"
      ]
     },
     "execution_count": 30,
     "metadata": {},
     "output_type": "execute_result"
    }
   ],
   "source": [
    "x.requires_grad_()"
   ]
  },
  {
   "cell_type": "code",
   "execution_count": 31,
   "id": "ddef3d95",
   "metadata": {},
   "outputs": [
    {
     "data": {
      "text/plain": [
       "tensor(125., grad_fn=<SumBackward0>)"
      ]
     },
     "execution_count": 31,
     "metadata": {},
     "output_type": "execute_result"
    }
   ],
   "source": [
    "def cool_fn(x):\n",
    "    return (x**2).sum()\n",
    "\n",
    "y = cool_fn(x)\n",
    "y"
   ]
  },
  {
   "cell_type": "code",
   "execution_count": 32,
   "id": "6232ee73",
   "metadata": {},
   "outputs": [
    {
     "data": {
      "text/plain": [
       "tensor([ 6.,  8., 20.])"
      ]
     },
     "execution_count": 32,
     "metadata": {},
     "output_type": "execute_result"
    }
   ],
   "source": [
    "# Calculate the gradient\n",
    "y.backward()\n",
    "\n",
    "# Print gradient value\n",
    "x.grad"
   ]
  },
  {
   "cell_type": "markdown",
   "id": "0ea9e36b",
   "metadata": {},
   "source": [
    "The gradients tell us only the slope of our function; they don’t tell us exactly how far\n",
    "to adjust the parameters. But they do give us some idea of how far: if the slope is very\n",
    "large, that may suggest that we have more adjustments to do, whereas if the slope is\n",
    "very small, that may suggest that we are close to the optimal value."
   ]
  },
  {
   "cell_type": "markdown",
   "id": "bba20d25",
   "metadata": {},
   "source": [
    "## Train\n",
    "\n",
    "So far, we haven't used any deep learning principles to create the model. \n",
    "We can now use the deep learning steps we saw in the book to solve this problem\n",
    "\n",
    "We already have our xs—that is, our independent variables, the images themselves.\n",
    "We’ll concatenate them all into a single tensor, and also change them from a list of\n",
    "matrices (a rank-3 tensor) to a list of vectors (a rank-2 tensor). We can do this using\n",
    "view, which is a PyTorch method that changes the shape of a tensor without changing\n",
    "its contents. -1 is a special parameter to view that means “make this axis as big as\n",
    "necessary to fit all the data”:"
   ]
  },
  {
   "cell_type": "code",
   "execution_count": 33,
   "id": "f4dc59f6",
   "metadata": {},
   "outputs": [
    {
     "data": {
      "text/plain": [
       "torch.Size([12396, 784])"
      ]
     },
     "execution_count": 33,
     "metadata": {},
     "output_type": "execute_result"
    }
   ],
   "source": [
    "train_x = torch.cat([stacked_threes, stacked_sevens]).view(-1, 28*28)\n",
    "train_x.shape"
   ]
  },
  {
   "cell_type": "code",
   "execution_count": 34,
   "id": "c75f191c",
   "metadata": {},
   "outputs": [
    {
     "data": {
      "text/plain": [
       "torch.Size([784])"
      ]
     },
     "execution_count": 34,
     "metadata": {},
     "output_type": "execute_result"
    }
   ],
   "source": [
    "# all the images have now been converted to rank-1 tensors (vectors)\n",
    "train_x[0].shape"
   ]
  },
  {
   "cell_type": "code",
   "execution_count": 35,
   "id": "5baf5066",
   "metadata": {},
   "outputs": [
    {
     "data": {
      "text/plain": [
       "torch.Size([12396, 1])"
      ]
     },
     "execution_count": 35,
     "metadata": {},
     "output_type": "execute_result"
    }
   ],
   "source": [
    "# label 3s as '1' and 7s as '0'\n",
    "# unsqueeze(1) tells PyTorch to make the 1st dimension (column) to be a singleton dimension\n",
    "train_y = tensor([1]*len(stacked_threes) + [0]*len(stacked_sevens)).unsqueeze(1)\n",
    "train_y.shape"
   ]
  },
  {
   "cell_type": "code",
   "execution_count": 36,
   "id": "0c468a62",
   "metadata": {},
   "outputs": [
    {
     "data": {
      "text/plain": [
       "(tensor([[1],\n",
       "         [1]]),\n",
       " tensor([[0],\n",
       "         [0]]))"
      ]
     },
     "execution_count": 36,
     "metadata": {},
     "output_type": "execute_result"
    }
   ],
   "source": [
    "train_y[:2] ,train_y[-2:]"
   ]
  },
  {
   "cell_type": "markdown",
   "id": "d072836d",
   "metadata": {},
   "source": [
    "A Dataset in PyTorch is required to return a tuple of (x,y) when indexed. Python provides a zip function that, when combined with list, provides a simple way to get this functionality:"
   ]
  },
  {
   "cell_type": "code",
   "execution_count": 37,
   "id": "6f1ba566",
   "metadata": {},
   "outputs": [
    {
     "data": {
      "text/plain": [
       "(torch.Size([784]), tensor([1]))"
      ]
     },
     "execution_count": 37,
     "metadata": {},
     "output_type": "execute_result"
    }
   ],
   "source": [
    "train_dset = list(zip(train_x, train_y))\n",
    "x,y = train_dset[0]\n",
    "x.shape, y"
   ]
  },
  {
   "cell_type": "code",
   "execution_count": 38,
   "id": "c7ca3c9c",
   "metadata": {},
   "outputs": [
    {
     "data": {
      "text/plain": [
       "(torch.Size([784]), tensor([1]))"
      ]
     },
     "execution_count": 38,
     "metadata": {},
     "output_type": "execute_result"
    }
   ],
   "source": [
    "# Lets do the same for the validation set\n",
    "val_x = torch.cat([val_3s_converted, val_3s_converted]).view(-1, 28*28)\n",
    "val_y = tensor([1]*len(val_3s_converted) + [0]*len(val_7s_converted)).unsqueeze(1)\n",
    "val_dset = list(zip(val_x, val_y))\n",
    "x_val, y = val_dset[0]\n",
    "x_val.shape, y"
   ]
  },
  {
   "cell_type": "code",
   "execution_count": 39,
   "id": "4b70fc68",
   "metadata": {},
   "outputs": [],
   "source": [
    "# Lets create a fn for initializing the params for each pixel in an image\n",
    "def init_params(size, std=1.0):\n",
    "    return (torch.randn(size)*std).requires_grad_()"
   ]
  },
  {
   "cell_type": "code",
   "execution_count": 40,
   "id": "543fd80b",
   "metadata": {},
   "outputs": [
    {
     "data": {
      "text/plain": [
       "(torch.Size([784, 1]), tensor([-0.8834], requires_grad=True))"
      ]
     },
     "execution_count": 40,
     "metadata": {},
     "output_type": "execute_result"
    }
   ],
   "source": [
    "weights = init_params((28*28, 1))\n",
    "bias = init_params(1)\n",
    "weights.shape, bias"
   ]
  },
  {
   "cell_type": "code",
   "execution_count": 41,
   "id": "10ac387f",
   "metadata": {},
   "outputs": [
    {
     "data": {
      "text/plain": [
       "tensor([-0.6674], grad_fn=<SelectBackward0>)"
      ]
     },
     "execution_count": 41,
     "metadata": {},
     "output_type": "execute_result"
    }
   ],
   "source": [
    "weights[0]"
   ]
  },
  {
   "cell_type": "code",
   "execution_count": 42,
   "id": "1b4605d2",
   "metadata": {},
   "outputs": [
    {
     "data": {
      "text/plain": [
       "tensor([-17.7949], grad_fn=<AddBackward0>)"
      ]
     },
     "execution_count": 42,
     "metadata": {},
     "output_type": "execute_result"
    }
   ],
   "source": [
    "# Lets make a prediction using these params\n",
    "# pred = w*x+b\n",
    "(train_x[0]*weights.T).sum() + bias"
   ]
  },
  {
   "cell_type": "code",
   "execution_count": 43,
   "id": "669139a1",
   "metadata": {},
   "outputs": [],
   "source": [
    "# Lets create a fn that will calculate the predictions for all our images\n",
    "# '@' means matrix multiply\n",
    "def linear1(xb): return xb@weights + bias"
   ]
  },
  {
   "cell_type": "code",
   "execution_count": 44,
   "id": "f9a28d45",
   "metadata": {},
   "outputs": [
    {
     "data": {
      "text/plain": [
       "tensor([[-17.7949],\n",
       "        [-19.1327],\n",
       "        [-23.7418],\n",
       "        ...,\n",
       "        [-11.6266],\n",
       "        [ -7.7636],\n",
       "        [-10.6294]], grad_fn=<AddBackward0>)"
      ]
     },
     "execution_count": 44,
     "metadata": {},
     "output_type": "execute_result"
    }
   ],
   "source": [
    "preds = linear1(train_x)\n",
    "preds"
   ]
  },
  {
   "cell_type": "markdown",
   "id": "683d7607",
   "metadata": {},
   "source": [
    "Remember our labels are in terms of '0's or '1's. Lets see what accuracy we are achieving so far"
   ]
  },
  {
   "cell_type": "code",
   "execution_count": 45,
   "id": "130569ee",
   "metadata": {},
   "outputs": [
    {
     "data": {
      "text/plain": [
       "tensor([[False],\n",
       "        [False],\n",
       "        [False],\n",
       "        ...,\n",
       "        [ True],\n",
       "        [ True],\n",
       "        [ True]])"
      ]
     },
     "execution_count": 45,
     "metadata": {},
     "output_type": "execute_result"
    }
   ],
   "source": [
    "# Compare the predictions to the labels\n",
    "corrects = (preds > 0.0).float() == train_y\n",
    "corrects"
   ]
  },
  {
   "cell_type": "code",
   "execution_count": 46,
   "id": "dbe488c1",
   "metadata": {},
   "outputs": [
    {
     "data": {
      "text/plain": [
       "0.49499839544296265"
      ]
     },
     "execution_count": 46,
     "metadata": {},
     "output_type": "execute_result"
    }
   ],
   "source": [
    "# Calculate the mean accuracy\n",
    "corrects.float().mean().item()"
   ]
  },
  {
   "cell_type": "markdown",
   "id": "f80a4462",
   "metadata": {},
   "source": [
    "In order to improve the predictions of our model, we need to know how far each prediction is to the ideal. This is known as the loss"
   ]
  },
  {
   "cell_type": "code",
   "execution_count": 47,
   "id": "aa9b60cb",
   "metadata": {},
   "outputs": [],
   "source": [
    "def mnist_loss(preds, targets):\n",
    "    return torch.where(targets == 1, 1 - preds, preds).mean()"
   ]
  },
  {
   "cell_type": "markdown",
   "id": "52f67ab1",
   "metadata": {},
   "source": [
    "We’re using a new function, torch.where(a,b,c). This is the same as running the list comprehension [b[i] if a[i] else c[i] for i in range(len(a))], except it\n",
    "works on tensors, at C/CUDA speed. In plain English, this function will measure how distant each prediction is from 1 if it should be 1, and how distant it is from 0 if it should be 0, and then it will take the mean of all those distances"
   ]
  },
  {
   "cell_type": "code",
   "execution_count": 48,
   "id": "40654ae5",
   "metadata": {},
   "outputs": [],
   "source": [
    "# help(torch.where)"
   ]
  },
  {
   "cell_type": "markdown",
   "id": "af99fc62",
   "metadata": {},
   "source": [
    "* Notice that our loss fn assumes that the predictions should always be a 0 or a 1.\n",
    "* Lets make our predictions that way"
   ]
  },
  {
   "cell_type": "code",
   "execution_count": 49,
   "id": "6b2a1b96",
   "metadata": {},
   "outputs": [],
   "source": [
    "# update loss fn to convert preds to 0s or 1s using sigmoid\n",
    "def mnist_loss(predictions, targets):\n",
    "    predictions = predictions.sigmoid()\n",
    "    return torch.where(targets==1, 1-predictions, predictions).mean()"
   ]
  },
  {
   "cell_type": "markdown",
   "id": "866b7d6f",
   "metadata": {},
   "source": [
    "### Dataloaders, Datasets and Mini-Batches"
   ]
  },
  {
   "cell_type": "code",
   "execution_count": 50,
   "id": "13c554f0",
   "metadata": {},
   "outputs": [
    {
     "data": {
      "text/plain": [
       "(#26) [(0, 'a'),(1, 'b'),(2, 'c'),(3, 'd'),(4, 'e'),(5, 'f'),(6, 'g'),(7, 'h'),(8, 'i'),(9, 'j')...]"
      ]
     },
     "execution_count": 50,
     "metadata": {},
     "output_type": "execute_result"
    }
   ],
   "source": [
    "# create an simple dataset\n",
    "ds = L(enumerate(string.ascii_lowercase))\n",
    "ds"
   ]
  },
  {
   "cell_type": "code",
   "execution_count": 51,
   "id": "4a20da0e",
   "metadata": {},
   "outputs": [
    {
     "data": {
      "text/plain": [
       "[(tensor([23,  3, 22,  8, 20, 15]), ('x', 'd', 'w', 'i', 'u', 'p')),\n",
       " (tensor([ 5, 11, 14, 12,  2, 19]), ('f', 'l', 'o', 'm', 'c', 't')),\n",
       " (tensor([24, 13,  4,  1,  9, 17]), ('y', 'n', 'e', 'b', 'j', 'r')),\n",
       " (tensor([21,  0, 25,  6,  7, 10]), ('v', 'a', 'z', 'g', 'h', 'k')),\n",
       " (tensor([16, 18]), ('q', 's'))]"
      ]
     },
     "execution_count": 51,
     "metadata": {},
     "output_type": "execute_result"
    }
   ],
   "source": [
    "# package the dataset into a dataloader\n",
    "dl = DataLoader(dataset=ds, batch_size=6, shuffle=True)\n",
    "\n",
    "# print the loader\n",
    "list(dl)"
   ]
  },
  {
   "cell_type": "code",
   "execution_count": 52,
   "id": "a00cfd37",
   "metadata": {},
   "outputs": [
    {
     "data": {
      "text/plain": [
       "(torch.Size([256, 784]), torch.Size([256, 1]))"
      ]
     },
     "execution_count": 52,
     "metadata": {},
     "output_type": "execute_result"
    }
   ],
   "source": [
    "# use our image data to create a dataloader\n",
    "train_dl = DataLoader(dataset=train_dset, batch_size=256)\n",
    "xb, yb = first(train_dl)\n",
    "xb.shape, yb.shape"
   ]
  },
  {
   "cell_type": "code",
   "execution_count": 53,
   "id": "ad7030f0",
   "metadata": {},
   "outputs": [],
   "source": [
    "val_dl = DataLoader(val_dset, batch_size=256)"
   ]
  },
  {
   "cell_type": "code",
   "execution_count": 54,
   "id": "87ded949",
   "metadata": {},
   "outputs": [
    {
     "data": {
      "text/plain": [
       "torch.Size([4, 784])"
      ]
     },
     "execution_count": 54,
     "metadata": {},
     "output_type": "execute_result"
    }
   ],
   "source": [
    "# Create a mini-batch for testing our logic so far\n",
    "batch = train_x[:4]\n",
    "batch.shape"
   ]
  },
  {
   "cell_type": "code",
   "execution_count": 55,
   "id": "67b0d4b4",
   "metadata": {},
   "outputs": [
    {
     "data": {
      "text/plain": [
       "tensor([[-17.7949],\n",
       "        [-19.1327],\n",
       "        [-23.7418],\n",
       "        [-25.3069]], grad_fn=<AddBackward0>)"
      ]
     },
     "execution_count": 55,
     "metadata": {},
     "output_type": "execute_result"
    }
   ],
   "source": [
    "# caculate the preds\n",
    "preds = linear1(batch)\n",
    "preds"
   ]
  },
  {
   "cell_type": "code",
   "execution_count": 56,
   "id": "00aa145b",
   "metadata": {},
   "outputs": [
    {
     "data": {
      "text/plain": [
       "tensor(1., grad_fn=<MeanBackward0>)"
      ]
     },
     "execution_count": 56,
     "metadata": {},
     "output_type": "execute_result"
    }
   ],
   "source": [
    "loss = mnist_loss(preds, train_y[:4])\n",
    "loss"
   ]
  },
  {
   "cell_type": "code",
   "execution_count": 57,
   "id": "61ff209c",
   "metadata": {},
   "outputs": [
    {
     "data": {
      "text/plain": [
       "(torch.Size([784, 1]), tensor(-8.4434e-10), tensor([-5.9158e-09]))"
      ]
     },
     "execution_count": 57,
     "metadata": {},
     "output_type": "execute_result"
    }
   ],
   "source": [
    "# calculate the gradients\n",
    "loss.backward()\n",
    "\n",
    "weights.grad.shape, weights.grad.mean() ,bias.grad"
   ]
  },
  {
   "cell_type": "code",
   "execution_count": 58,
   "id": "0ad94b32",
   "metadata": {},
   "outputs": [],
   "source": [
    "# create a fn for calculating gradients\n",
    "# it combines the steps that we did above\n",
    "def calc_grad(xb, yb, model):\n",
    "    preds = model(xb)\n",
    "    loss = mnist_loss(preds, yb)\n",
    "    loss.backward()\n",
    "    # we don't need to return anything since the gradients will be stored within the params object"
   ]
  },
  {
   "cell_type": "code",
   "execution_count": 59,
   "id": "c59768d3",
   "metadata": {},
   "outputs": [
    {
     "data": {
      "text/plain": [
       "(tensor(-1.6887e-09), tensor([-1.1832e-08]))"
      ]
     },
     "execution_count": 59,
     "metadata": {},
     "output_type": "execute_result"
    }
   ],
   "source": [
    "calc_grad(batch, train_y[:4], linear1)\n",
    "weights.grad.mean(), bias.grad"
   ]
  },
  {
   "cell_type": "code",
   "execution_count": 60,
   "id": "59109fdf",
   "metadata": {},
   "outputs": [
    {
     "data": {
      "text/plain": [
       "tensor([0.])"
      ]
     },
     "execution_count": 60,
     "metadata": {},
     "output_type": "execute_result"
    }
   ],
   "source": [
    "# reset the grads back to 0 after calculation\n",
    "weights.grad.zero_()\n",
    "bias.grad.zero_()"
   ]
  },
  {
   "cell_type": "code",
   "execution_count": 61,
   "id": "f071c84b",
   "metadata": {},
   "outputs": [],
   "source": [
    "def train_epoch(model, lr, params):\n",
    "    for xb, yb in train_dl:\n",
    "        calc_grad(xb, yb, model)\n",
    "        for p in params:\n",
    "            p.data -= p.grad*lr # If we assign to the data attribute of a tensor, PyTorch will not take the gradient of that step\n",
    "            p.grad.zero_()"
   ]
  },
  {
   "cell_type": "code",
   "execution_count": 62,
   "id": "f868f6f1",
   "metadata": {},
   "outputs": [],
   "source": [
    "# create a fn to get accuracy\n",
    "def batch_accuracy(xb, yb):\n",
    "    preds = xb.sigmoid()\n",
    "    correct = (preds > 0.5) == yb\n",
    "    return correct.float().mean()"
   ]
  },
  {
   "cell_type": "code",
   "execution_count": 63,
   "id": "d8eace53",
   "metadata": {},
   "outputs": [
    {
     "data": {
      "text/plain": [
       "tensor(0.)"
      ]
     },
     "execution_count": 63,
     "metadata": {},
     "output_type": "execute_result"
    }
   ],
   "source": [
    "batch_accuracy(linear1(batch), train_y[:4])"
   ]
  },
  {
   "cell_type": "code",
   "execution_count": 64,
   "id": "5dbeaea7",
   "metadata": {},
   "outputs": [],
   "source": [
    "def validate_epoch(model):\n",
    "    accs = [batch_accuracy(model(xb), yb) for xb, yb in val_dl]\n",
    "    return round(torch.stack(accs).mean().item(), 4)"
   ]
  },
  {
   "cell_type": "code",
   "execution_count": 65,
   "id": "74942c93",
   "metadata": {},
   "outputs": [
    {
     "data": {
      "text/plain": [
       "0.5068"
      ]
     },
     "execution_count": 65,
     "metadata": {},
     "output_type": "execute_result"
    }
   ],
   "source": [
    "validate_epoch(linear1)"
   ]
  },
  {
   "cell_type": "markdown",
   "id": "b0bec526",
   "metadata": {},
   "source": [
    "Let's train for 1 epoch and see if the accuracy improves"
   ]
  },
  {
   "cell_type": "code",
   "execution_count": 66,
   "id": "f5b934ab",
   "metadata": {},
   "outputs": [
    {
     "data": {
      "text/plain": [
       "0.5068"
      ]
     },
     "execution_count": 66,
     "metadata": {},
     "output_type": "execute_result"
    }
   ],
   "source": [
    "lr = 1.\n",
    "params = weights, bias\n",
    "train_epoch(linear1, lr, params)\n",
    "validate_epoch(linear1)"
   ]
  },
  {
   "cell_type": "code",
   "execution_count": 67,
   "id": "7f2215c5",
   "metadata": {},
   "outputs": [
    {
     "name": "stdout",
     "output_type": "stream",
     "text": [
      "0.5068 0.5068 0.5068 0.5068 0.5068 0.5068 0.5068 0.5068 0.5068 0.5068 0.5068 0.5068 0.5068 0.5068 0.5068 0.5067 0.5066 0.5066 0.5061 0.5001 "
     ]
    }
   ],
   "source": [
    "for i in range(20):\n",
    "    train_epoch(linear1, lr, params)\n",
    "    print(validate_epoch(linear1), end=' ')"
   ]
  },
  {
   "cell_type": "code",
   "execution_count": null,
   "id": "73b00df6",
   "metadata": {},
   "outputs": [],
   "source": []
  }
 ],
 "metadata": {
  "kernelspec": {
   "display_name": "Python 3 (ipykernel)",
   "language": "python",
   "name": "python3"
  },
  "language_info": {
   "codemirror_mode": {
    "name": "ipython",
    "version": 3
   },
   "file_extension": ".py",
   "mimetype": "text/x-python",
   "name": "python",
   "nbconvert_exporter": "python",
   "pygments_lexer": "ipython3",
   "version": "3.10.12"
  }
 },
 "nbformat": 4,
 "nbformat_minor": 5
}
